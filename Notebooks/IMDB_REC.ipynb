{
  "cells": [
    {
      "cell_type": "markdown",
      "metadata": {
        "id": "view-in-github",
        "colab_type": "text"
      },
      "source": [
        "<a href=\"https://colab.research.google.com/github/Abed221/IMDB-Recommendation-System/blob/main/IMDB_REC.ipynb\" target=\"_parent\"><img src=\"https://colab.research.google.com/assets/colab-badge.svg\" alt=\"Open In Colab\"/></a>"
      ]
    },
    {
      "cell_type": "markdown",
      "metadata": {
        "id": "4cbgwZWWfWpp"
      },
      "source": [
        "# Imports"
      ]
    },
    {
      "cell_type": "markdown",
      "metadata": {
        "id": "TrD5DA7CxOjA"
      },
      "source": [
        "##Environment and collecting data"
      ]
    },
    {
      "cell_type": "code",
      "execution_count": 28,
      "metadata": {
        "id": "n1_K400MEnnQ"
      },
      "outputs": [],
      "source": [
        "#Environment Setup\n",
        "import pandas as pd\n",
        "import matplotlib.pyplot as plt\n",
        "import numpy as np\n",
        "from pandas.plotting import scatter_matrix\n",
        "import seaborn as sb \n",
        "%matplotlib inline"
      ]
    },
    {
      "cell_type": "markdown",
      "metadata": {
        "id": "N_n7iWRrfPRY"
      },
      "source": [
        "We didn't need the actor name dataset because we can use the nconst as a reference number through the principal and basics datasets and match these with each other"
      ]
    },
    {
      "cell_type": "code",
      "execution_count": 3,
      "metadata": {
        "colab": {
          "base_uri": "https://localhost:8080/"
        },
        "id": "aMfk93owHh5G",
        "outputId": "f8330473-bfa9-4bf0-9517-2230377c5cd9"
      },
      "outputs": [
        {
          "output_type": "stream",
          "name": "stdout",
          "text": [
            "--2022-01-02 18:58:54--  https://datasets.imdbws.com/title.basics.tsv.gz\n",
            "Resolving datasets.imdbws.com (datasets.imdbws.com)... 54.230.19.127, 54.230.19.99, 54.230.19.50, ...\n",
            "Connecting to datasets.imdbws.com (datasets.imdbws.com)|54.230.19.127|:443... connected.\n",
            "HTTP request sent, awaiting response... 200 OK\n",
            "Length: 150069389 (143M) [binary/octet-stream]\n",
            "Saving to: ‘title.basics.tsv.gz’\n",
            "\n",
            "title.basics.tsv.gz 100%[===================>] 143.12M  31.5MB/s    in 4.1s    \n",
            "\n",
            "2022-01-02 18:58:58 (35.3 MB/s) - ‘title.basics.tsv.gz’ saved [150069389/150069389]\n",
            "\n",
            "--2022-01-02 18:58:58--  https://datasets.imdbws.com/title.crew.tsv.gz\n",
            "Resolving datasets.imdbws.com (datasets.imdbws.com)... 54.230.19.127, 54.230.19.99, 54.230.19.50, ...\n",
            "Connecting to datasets.imdbws.com (datasets.imdbws.com)|54.230.19.127|:443... connected.\n",
            "HTTP request sent, awaiting response... 200 OK\n",
            "Length: 58444351 (56M) [binary/octet-stream]\n",
            "Saving to: ‘title.crew.tsv.gz’\n",
            "\n",
            "title.crew.tsv.gz   100%[===================>]  55.74M  70.6MB/s    in 0.8s    \n",
            "\n",
            "2022-01-02 18:58:59 (70.6 MB/s) - ‘title.crew.tsv.gz’ saved [58444351/58444351]\n",
            "\n",
            "--2022-01-02 18:58:59--  https://datasets.imdbws.com/title.ratings.tsv.gz\n",
            "Resolving datasets.imdbws.com (datasets.imdbws.com)... 54.230.19.98, 54.230.19.50, 54.230.19.99, ...\n",
            "Connecting to datasets.imdbws.com (datasets.imdbws.com)|54.230.19.98|:443... connected.\n",
            "HTTP request sent, awaiting response... 200 OK\n",
            "Length: 5989985 (5.7M) [binary/octet-stream]\n",
            "Saving to: ‘title.ratings.tsv.gz’\n",
            "\n",
            "title.ratings.tsv.g 100%[===================>]   5.71M  23.4MB/s    in 0.2s    \n",
            "\n",
            "2022-01-02 18:59:00 (23.4 MB/s) - ‘title.ratings.tsv.gz’ saved [5989985/5989985]\n",
            "\n",
            "--2022-01-02 18:59:00--  https://raw.githubusercontent.com/sahildit/IMDB-Movies-Extensive-Dataset-Analysis/master/data1/IMDb%20movies.csv\n",
            "Resolving raw.githubusercontent.com (raw.githubusercontent.com)... 185.199.108.133, 185.199.109.133, 185.199.110.133, ...\n",
            "Connecting to raw.githubusercontent.com (raw.githubusercontent.com)|185.199.108.133|:443... connected.\n",
            "HTTP request sent, awaiting response... 200 OK\n",
            "Length: 47840433 (46M) [text/plain]\n",
            "Saving to: ‘IMDb movies.csv’\n",
            "\n",
            "IMDb movies.csv     100%[===================>]  45.62M   119MB/s    in 0.4s    \n",
            "\n",
            "2022-01-02 18:59:01 (119 MB/s) - ‘IMDb movies.csv’ saved [47840433/47840433]\n",
            "\n"
          ]
        }
      ],
      "source": [
        "!wget 'https://datasets.imdbws.com/title.basics.tsv.gz'\n",
        "!wget 'https://datasets.imdbws.com/title.crew.tsv.gz'\n",
        "!wget 'https://datasets.imdbws.com/title.ratings.tsv.gz'\n",
        "!wget 'https://raw.githubusercontent.com/sahildit/IMDB-Movies-Extensive-Dataset-Analysis/master/data1/IMDb%20movies.csv'"
      ]
    },
    {
      "cell_type": "code",
      "execution_count": 4,
      "metadata": {
        "id": "A1kA6l7GXRTF"
      },
      "outputs": [],
      "source": [
        "!gunzip /content/title.basics.tsv.gz\n",
        "!gunzip /content/title.crew.tsv.gz\n",
        "!gunzip /content/title.ratings.tsv.gz"
      ]
    },
    {
      "cell_type": "code",
      "execution_count": 5,
      "metadata": {
        "colab": {
          "base_uri": "https://localhost:8080/"
        },
        "id": "HVd7LJH-fsFR",
        "outputId": "0a8a7be4-e691-45e1-bf53-45d561aebd30"
      },
      "outputs": [
        {
          "output_type": "stream",
          "name": "stderr",
          "text": [
            "/usr/local/lib/python3.7/dist-packages/IPython/core/interactiveshell.py:2718: DtypeWarning: Columns (4,5) have mixed types.Specify dtype option on import or set low_memory=False.\n",
            "  interactivity=interactivity, compiler=compiler, result=result)\n",
            "/usr/local/lib/python3.7/dist-packages/IPython/core/interactiveshell.py:2718: DtypeWarning: Columns (3) have mixed types.Specify dtype option on import or set low_memory=False.\n",
            "  interactivity=interactivity, compiler=compiler, result=result)\n"
          ]
        }
      ],
      "source": [
        "principals = pd.read_csv('title.crew.tsv', sep='\\t')\n",
        "movies = pd.read_csv('title.basics.tsv', sep='\\t')\n",
        "ratings = pd.read_csv('title.ratings.tsv', sep='\\t')\n",
        "languages = pd.read_csv('IMDb movies.csv')"
      ]
    },
    {
      "cell_type": "markdown",
      "metadata": {
        "id": "x55WPynzFJ0W"
      },
      "source": [
        "##Cleaning Data in the final dataframe"
      ]
    },
    {
      "cell_type": "code",
      "execution_count": 6,
      "metadata": {
        "id": "uty7GjOX1UYv"
      },
      "outputs": [],
      "source": [
        "#Ratings\n",
        "movies = pd.merge(movies, ratings, on=['tconst'])\n",
        "\n",
        "#Directors\n",
        "movies = pd.merge(movies, principals, on=['tconst'])\n",
        "\n",
        "#preparing languages dataframe for the merge\n",
        "languages.rename(columns={'imdb_title_id': 'tconst'}, inplace=True)\n",
        "movies = pd.merge(movies, languages[['language', 'tconst', 'director']], how='left', on=['tconst'])"
      ]
    },
    {
      "cell_type": "code",
      "execution_count": 7,
      "metadata": {
        "id": "eWyNKaf0IXcV"
      },
      "outputs": [],
      "source": [
        "#Fitering unwanted titletypes\n",
        "movies.drop('primaryTitle', axis=1, inplace=True)\n",
        "movies = movies[movies['titleType'] != 'tvPilot']\n",
        "movies = movies[movies['titleType'] != 'videoGame']\n",
        "movies = movies[movies['titleType'] != 'tvShort']\n",
        "movies = movies[movies['titleType'] != 'video']\n",
        "movies = movies[movies['titleType'] != 'tvEpisode']\n",
        "movies = movies[movies['titleType'] != 'Short']"
      ]
    },
    {
      "cell_type": "code",
      "execution_count": 8,
      "metadata": {
        "id": "saK7UNguoX3_"
      },
      "outputs": [],
      "source": [
        "# Changing startyear dtype and incorrect values\n",
        "movies['startYear'].replace(to_replace = r\"\\N\", value= 2000, inplace=True)\n",
        "movies['startYear'] = pd.to_numeric(movies['startYear'])"
      ]
    },
    {
      "cell_type": "code",
      "execution_count": 9,
      "metadata": {
        "id": "blTHSiY0jYWE"
      },
      "outputs": [],
      "source": [
        "# Filtering irrelevant movies with awful rating/not released yet\n",
        "movies = movies[movies['averageRating'] >= 2.0]\n",
        "movies = movies[movies['numVotes'] >= 1000]\n",
        "movies = movies[movies['startYear'] < 2023]"
      ]
    },
    {
      "cell_type": "code",
      "execution_count": 10,
      "metadata": {
        "id": "pf_inyGIKiTY"
      },
      "outputs": [],
      "source": [
        "# Splitting Genres text values to multiple genre columns\n",
        "new = movies[\"genres\"].str.split(\",\", n=2 ,expand = True)\n",
        "  \n",
        "# making separate first name column from new data frame\n",
        "movies[\"genre1\"]= new[0]\n",
        "movies[\"genre2\"]= new[1]\n",
        "movies[\"genre3\"]= new[2]\n",
        "  \n",
        "# Dropping old Name columns\n",
        "movies.drop(columns =[\"genres\"], inplace = True)"
      ]
    },
    {
      "cell_type": "code",
      "execution_count": 11,
      "metadata": {
        "id": "3nVUab8idz1t"
      },
      "outputs": [],
      "source": [
        "movies['numVotes'].fillna(value= 0,inplace=True)\n",
        "movies['numVotes'].replace(to_replace = '\\n', value = 0)\n",
        "movies['language'].fillna(value='none', inplace=True)"
      ]
    },
    {
      "cell_type": "markdown",
      "metadata": {
        "id": "7aXto7XyGFrE"
      },
      "source": [
        "##Checking the final dataframe"
      ]
    },
    {
      "cell_type": "code",
      "execution_count": 29,
      "metadata": {
        "colab": {
          "base_uri": "https://localhost:8080/",
          "height": 144
        },
        "id": "S9K4pU1zLalx",
        "outputId": "366021d4-b376-48b9-e3f5-4d5d45a303bd"
      },
      "outputs": [
        {
          "output_type": "execute_result",
          "data": {
            "text/html": [
              "\n",
              "  <div id=\"df-e8195f7b-f3d5-450b-83d3-073a3b70b759\">\n",
              "    <div class=\"colab-df-container\">\n",
              "      <div>\n",
              "<style scoped>\n",
              "    .dataframe tbody tr th:only-of-type {\n",
              "        vertical-align: middle;\n",
              "    }\n",
              "\n",
              "    .dataframe tbody tr th {\n",
              "        vertical-align: top;\n",
              "    }\n",
              "\n",
              "    .dataframe thead th {\n",
              "        text-align: right;\n",
              "    }\n",
              "</style>\n",
              "<table border=\"1\" class=\"dataframe\">\n",
              "  <thead>\n",
              "    <tr style=\"text-align: right;\">\n",
              "      <th></th>\n",
              "      <th>tconst</th>\n",
              "      <th>titleType</th>\n",
              "      <th>originalTitle</th>\n",
              "      <th>isAdult</th>\n",
              "      <th>startYear</th>\n",
              "      <th>endYear</th>\n",
              "      <th>runtimeMinutes</th>\n",
              "      <th>averageRating</th>\n",
              "      <th>numVotes</th>\n",
              "      <th>directors</th>\n",
              "      <th>writers</th>\n",
              "      <th>language</th>\n",
              "      <th>director</th>\n",
              "      <th>genre1</th>\n",
              "      <th>genre2</th>\n",
              "      <th>genre3</th>\n",
              "    </tr>\n",
              "  </thead>\n",
              "  <tbody>\n",
              "    <tr>\n",
              "      <th>0</th>\n",
              "      <td>tt0000001</td>\n",
              "      <td>short</td>\n",
              "      <td>Carmencita</td>\n",
              "      <td>0</td>\n",
              "      <td>1894</td>\n",
              "      <td>\\N</td>\n",
              "      <td>1</td>\n",
              "      <td>5.7</td>\n",
              "      <td>1847</td>\n",
              "      <td>nm0005690</td>\n",
              "      <td>\\N</td>\n",
              "      <td>none</td>\n",
              "      <td>NaN</td>\n",
              "      <td>Documentary</td>\n",
              "      <td>Short</td>\n",
              "      <td>None</td>\n",
              "    </tr>\n",
              "  </tbody>\n",
              "</table>\n",
              "</div>\n",
              "      <button class=\"colab-df-convert\" onclick=\"convertToInteractive('df-e8195f7b-f3d5-450b-83d3-073a3b70b759')\"\n",
              "              title=\"Convert this dataframe to an interactive table.\"\n",
              "              style=\"display:none;\">\n",
              "        \n",
              "  <svg xmlns=\"http://www.w3.org/2000/svg\" height=\"24px\"viewBox=\"0 0 24 24\"\n",
              "       width=\"24px\">\n",
              "    <path d=\"M0 0h24v24H0V0z\" fill=\"none\"/>\n",
              "    <path d=\"M18.56 5.44l.94 2.06.94-2.06 2.06-.94-2.06-.94-.94-2.06-.94 2.06-2.06.94zm-11 1L8.5 8.5l.94-2.06 2.06-.94-2.06-.94L8.5 2.5l-.94 2.06-2.06.94zm10 10l.94 2.06.94-2.06 2.06-.94-2.06-.94-.94-2.06-.94 2.06-2.06.94z\"/><path d=\"M17.41 7.96l-1.37-1.37c-.4-.4-.92-.59-1.43-.59-.52 0-1.04.2-1.43.59L10.3 9.45l-7.72 7.72c-.78.78-.78 2.05 0 2.83L4 21.41c.39.39.9.59 1.41.59.51 0 1.02-.2 1.41-.59l7.78-7.78 2.81-2.81c.8-.78.8-2.07 0-2.86zM5.41 20L4 18.59l7.72-7.72 1.47 1.35L5.41 20z\"/>\n",
              "  </svg>\n",
              "      </button>\n",
              "      \n",
              "  <style>\n",
              "    .colab-df-container {\n",
              "      display:flex;\n",
              "      flex-wrap:wrap;\n",
              "      gap: 12px;\n",
              "    }\n",
              "\n",
              "    .colab-df-convert {\n",
              "      background-color: #E8F0FE;\n",
              "      border: none;\n",
              "      border-radius: 50%;\n",
              "      cursor: pointer;\n",
              "      display: none;\n",
              "      fill: #1967D2;\n",
              "      height: 32px;\n",
              "      padding: 0 0 0 0;\n",
              "      width: 32px;\n",
              "    }\n",
              "\n",
              "    .colab-df-convert:hover {\n",
              "      background-color: #E2EBFA;\n",
              "      box-shadow: 0px 1px 2px rgba(60, 64, 67, 0.3), 0px 1px 3px 1px rgba(60, 64, 67, 0.15);\n",
              "      fill: #174EA6;\n",
              "    }\n",
              "\n",
              "    [theme=dark] .colab-df-convert {\n",
              "      background-color: #3B4455;\n",
              "      fill: #D2E3FC;\n",
              "    }\n",
              "\n",
              "    [theme=dark] .colab-df-convert:hover {\n",
              "      background-color: #434B5C;\n",
              "      box-shadow: 0px 1px 3px 1px rgba(0, 0, 0, 0.15);\n",
              "      filter: drop-shadow(0px 1px 2px rgba(0, 0, 0, 0.3));\n",
              "      fill: #FFFFFF;\n",
              "    }\n",
              "  </style>\n",
              "\n",
              "      <script>\n",
              "        const buttonEl =\n",
              "          document.querySelector('#df-e8195f7b-f3d5-450b-83d3-073a3b70b759 button.colab-df-convert');\n",
              "        buttonEl.style.display =\n",
              "          google.colab.kernel.accessAllowed ? 'block' : 'none';\n",
              "\n",
              "        async function convertToInteractive(key) {\n",
              "          const element = document.querySelector('#df-e8195f7b-f3d5-450b-83d3-073a3b70b759');\n",
              "          const dataTable =\n",
              "            await google.colab.kernel.invokeFunction('convertToInteractive',\n",
              "                                                     [key], {});\n",
              "          if (!dataTable) return;\n",
              "\n",
              "          const docLinkHtml = 'Like what you see? Visit the ' +\n",
              "            '<a target=\"_blank\" href=https://colab.research.google.com/notebooks/data_table.ipynb>data table notebook</a>'\n",
              "            + ' to learn more about interactive tables.';\n",
              "          element.innerHTML = '';\n",
              "          dataTable['output_type'] = 'display_data';\n",
              "          await google.colab.output.renderOutput(dataTable, element);\n",
              "          const docLink = document.createElement('div');\n",
              "          docLink.innerHTML = docLinkHtml;\n",
              "          element.appendChild(docLink);\n",
              "        }\n",
              "      </script>\n",
              "    </div>\n",
              "  </div>\n",
              "  "
            ],
            "text/plain": [
              "      tconst titleType originalTitle  ...       genre1  genre2 genre3\n",
              "0  tt0000001     short    Carmencita  ...  Documentary   Short   None\n",
              "\n",
              "[1 rows x 16 columns]"
            ]
          },
          "metadata": {},
          "execution_count": 29
        }
      ],
      "source": [
        "movies.head(1)"
      ]
    },
    {
      "cell_type": "code",
      "execution_count": 38,
      "metadata": {
        "colab": {
          "base_uri": "https://localhost:8080/",
          "height": 367
        },
        "id": "4E27tm51Zqu2",
        "outputId": "2b55455b-4168-4c59-9622-aae2b55ebaba"
      },
      "outputs": [
        {
          "output_type": "execute_result",
          "data": {
            "text/plain": [
              "(array([4.91259190e-04, 2.31009384e-04, 1.39838216e-04, 9.38172082e-05,\n",
              "        6.87635589e-05, 5.21504438e-05, 4.18342353e-05, 3.43650323e-05,\n",
              "        2.93074106e-05, 2.24745972e-05]),\n",
              " array([1000., 1830., 2660., 3490., 4320., 5150., 5980., 6810., 7640.,\n",
              "        8470., 9300.]),\n",
              " <a list of 10 Patch objects>)"
            ]
          },
          "metadata": {},
          "execution_count": 38
        },
        {
          "output_type": "display_data",
          "data": {
            "image/png": "[encoded data removed]",
            "text/plain": [
              "<Figure size 432x288 with 1 Axes>"
            ]
          },
          "metadata": {
            "needs_background": "light"
          }
        }
      ],
      "source": [
        "plt.hist(movies['numVotes'], density=True, range=[1000, 9300])"
      ]
    },
    {
      "cell_type": "code",
      "source": [
        "sb.pairplot(movies[['startYear', 'numVotes', 'averageRating']])"
      ],
      "metadata": {
        "colab": {
          "base_uri": "https://localhost:8080/",
          "height": 567
        },
        "id": "HWWgVW3BP_-O",
        "outputId": "cd5008ba-4604-4b1c-ce3c-14bfe36ad420"
      },
      "execution_count": 37,
      "outputs": [
        {
          "output_type": "execute_result",
          "data": {
            "text/plain": [
              "<seaborn.axisgrid.PairGrid at 0x7f45f254d2d0>"
            ]
          },
          "metadata": {},
          "execution_count": 37
        },
        {
          "output_type": "display_data",
          "data": {
            "image/png": "[encoded data removed]",
            "text/plain": [
              "<Figure size 540x540 with 12 Axes>"
            ]
          },
          "metadata": {
            "needs_background": "light"
          }
        }
      ]
    },
    {
      "cell_type": "markdown",
      "metadata": {
        "id": "Qf_Q9ieqWR8Q"
      },
      "source": [
        "#Movie name input\n",
        "\n",
        "---\n",
        "\n",
        "\n",
        "\n",
        "---\n",
        "\n"
      ]
    },
    {
      "cell_type": "code",
      "execution_count": 17,
      "metadata": {
        "colab": {
          "base_uri": "https://localhost:8080/"
        },
        "id": "7pZToBrzRRpc",
        "outputId": "cc3a7592-b880-430e-c8bc-c7aa9ea686d2"
      },
      "outputs": [
        {
          "name": "stdout",
          "output_type": "stream",
          "text": [
            "Dune: Part One\n",
            "2021\n"
          ]
        }
      ],
      "source": [
        "#Original title\n",
        "title = input()\n",
        "\n",
        "#Year of production\n",
        "year = input()\n",
        "year = int(year)\n",
        "\n",
        "#ٍSepcify Title Type\n",
        "titletype = movies[(movies['originalTitle']==title) & (movies['startYear']==year)]['titleType'].iloc[0]\n",
        "#Movie genre\n",
        "genre = movies[(movies['originalTitle'] == title) & (movies['startYear']==year)]['genre1'].iloc[0]\n",
        "\n",
        "#Movie Director\n",
        "director = movies[(movies['originalTitle'] == title)& (movies['startYear']==year)]['directors'].iloc[0]\n",
        "\n",
        "#other sources for movies directors using the director column\n",
        "#if director == '/N':\n",
        "  #director = movies[(movies['originalTitle'] == title)& (movies['startYear']==year)]['director'].iloc[0]\n",
        "\n",
        "\n",
        "#Movie Average Rating\n",
        "rating = movies[(movies['originalTitle'] == title)& (movies['startYear']==year)]['averageRating'].iloc[0]\n",
        "\n",
        "#Movie Original Language\n",
        "language = movies[(movies['originalTitle'] == title)& (movies['startYear']==year)]['language'].iloc[0]"
      ]
    },
    {
      "cell_type": "code",
      "execution_count": 18,
      "metadata": {
        "colab": {
          "base_uri": "https://localhost:8080/"
        },
        "id": "imMCm5nck-vt",
        "outputId": "5a2ad68f-f132-4791-9c41-c651564b2a3e"
      },
      "outputs": [
        {
          "output_type": "stream",
          "name": "stdout",
          "text": [
            "Action\n",
            "nm0898288\n",
            "2021\n",
            "movie\n",
            "none\n"
          ]
        }
      ],
      "source": [
        "print(genre)\n",
        "print(director)\n",
        "print(year)\n",
        "print(titletype)\n",
        "print(language)"
      ]
    },
    {
      "cell_type": "code",
      "execution_count": 39,
      "metadata": {
        "id": "jEoIH_rC5pVe"
      },
      "outputs": [],
      "source": [
        "#output 1 (Genre + Better rating than input + Same media type + Language)\n",
        "result = movies[(movies['genre1'] == genre) & (movies['titleType']==titletype) & (movies['language']==language) & (movies['averageRating']>=rating)]['originalTitle'].sample().iloc[0]\n",
        "\n",
        "#output 2 (Genre + Better than constant rating + Same media type)\n",
        "result2 = movies[(((movies['genre1'].str.contains(genre, case=False)) | (movies['genre2'].str.contains(genre, case=False)) | (movies['genre3'].str.contains(genre, case=False)))) & (movies['titleType']==titletype) & (movies['averageRating']>=6.0)]['originalTitle'].sample().iloc[0]\n"
      ]
    },
    {
      "cell_type": "markdown",
      "metadata": {
        "id": "PKln0bw8v46X"
      },
      "source": [
        "#Final Output "
      ]
    },
    {
      "cell_type": "code",
      "execution_count": 40,
      "metadata": {
        "colab": {
          "base_uri": "https://localhost:8080/"
        },
        "id": "no5s-oBFv6dU",
        "outputId": "cd3ca5f0-2c7a-4117-d8a8-62474b2b8085"
      },
      "outputs": [
        {
          "output_type": "execute_result",
          "data": {
            "text/plain": [
              "('Maro Prasthanam', 'Nikita')"
            ]
          },
          "metadata": {},
          "execution_count": 40
        }
      ],
      "source": [
        "result, result2"
      ]
    },
    {
      "cell_type": "markdown",
      "metadata": {
        "id": "o8sExX9_7mP0"
      },
      "source": [
        "#ٌTesting Region"
      ]
    },
    {
      "cell_type": "code",
      "source": [
        "movies[(movies['genre1'] == genre) & (movies['titleType']==titletype) & (movies['language']==language) & (movies['averageRating']>=rating)]['originalTitle']"
      ],
      "metadata": {
        "colab": {
          "base_uri": "https://localhost:8080/"
        },
        "id": "f92cj5vquw88",
        "outputId": "ef7580e0-d3c6-4aab-ccd9-c34d754c6de7"
      },
      "execution_count": null,
      "outputs": [
        {
          "output_type": "execute_result",
          "data": {
            "text/plain": [
              "1071043    Tenet\n",
              "Name: originalTitle, dtype: object"
            ]
          },
          "metadata": {},
          "execution_count": 35
        }
      ]
    },
    {
      "cell_type": "code",
      "execution_count": 16,
      "metadata": {
        "colab": {
          "base_uri": "https://localhost:8080/",
          "height": 144
        },
        "id": "os8hAYz2Ybg_",
        "outputId": "60fd33a4-3463-414c-8905-4fe01c9e9a97"
      },
      "outputs": [
        {
          "output_type": "execute_result",
          "data": {
            "text/html": [
              "\n",
              "  <div id=\"df-19ea33df-894e-40c9-b9ad-b5a36fa39e6b\">\n",
              "    <div class=\"colab-df-container\">\n",
              "      <div>\n",
              "<style scoped>\n",
              "    .dataframe tbody tr th:only-of-type {\n",
              "        vertical-align: middle;\n",
              "    }\n",
              "\n",
              "    .dataframe tbody tr th {\n",
              "        vertical-align: top;\n",
              "    }\n",
              "\n",
              "    .dataframe thead th {\n",
              "        text-align: right;\n",
              "    }\n",
              "</style>\n",
              "<table border=\"1\" class=\"dataframe\">\n",
              "  <thead>\n",
              "    <tr style=\"text-align: right;\">\n",
              "      <th></th>\n",
              "      <th>tconst</th>\n",
              "      <th>titleType</th>\n",
              "      <th>originalTitle</th>\n",
              "      <th>isAdult</th>\n",
              "      <th>startYear</th>\n",
              "      <th>endYear</th>\n",
              "      <th>runtimeMinutes</th>\n",
              "      <th>averageRating</th>\n",
              "      <th>numVotes</th>\n",
              "      <th>directors</th>\n",
              "      <th>writers</th>\n",
              "      <th>language</th>\n",
              "      <th>director</th>\n",
              "      <th>genre1</th>\n",
              "      <th>genre2</th>\n",
              "      <th>genre3</th>\n",
              "    </tr>\n",
              "  </thead>\n",
              "  <tbody>\n",
              "    <tr>\n",
              "      <th>526215</th>\n",
              "      <td>tt1160419</td>\n",
              "      <td>movie</td>\n",
              "      <td>Dune: Part One</td>\n",
              "      <td>0</td>\n",
              "      <td>2021</td>\n",
              "      <td>\\N</td>\n",
              "      <td>155</td>\n",
              "      <td>8.2</td>\n",
              "      <td>417397</td>\n",
              "      <td>nm0898288</td>\n",
              "      <td>nm3123612,nm0898288,nm0744839,nm0378541</td>\n",
              "      <td>none</td>\n",
              "      <td>NaN</td>\n",
              "      <td>Action</td>\n",
              "      <td>Adventure</td>\n",
              "      <td>Drama</td>\n",
              "    </tr>\n",
              "  </tbody>\n",
              "</table>\n",
              "</div>\n",
              "      <button class=\"colab-df-convert\" onclick=\"convertToInteractive('df-19ea33df-894e-40c9-b9ad-b5a36fa39e6b')\"\n",
              "              title=\"Convert this dataframe to an interactive table.\"\n",
              "              style=\"display:none;\">\n",
              "        \n",
              "  <svg xmlns=\"http://www.w3.org/2000/svg\" height=\"24px\"viewBox=\"0 0 24 24\"\n",
              "       width=\"24px\">\n",
              "    <path d=\"M0 0h24v24H0V0z\" fill=\"none\"/>\n",
              "    <path d=\"M18.56 5.44l.94 2.06.94-2.06 2.06-.94-2.06-.94-.94-2.06-.94 2.06-2.06.94zm-11 1L8.5 8.5l.94-2.06 2.06-.94-2.06-.94L8.5 2.5l-.94 2.06-2.06.94zm10 10l.94 2.06.94-2.06 2.06-.94-2.06-.94-.94-2.06-.94 2.06-2.06.94z\"/><path d=\"M17.41 7.96l-1.37-1.37c-.4-.4-.92-.59-1.43-.59-.52 0-1.04.2-1.43.59L10.3 9.45l-7.72 7.72c-.78.78-.78 2.05 0 2.83L4 21.41c.39.39.9.59 1.41.59.51 0 1.02-.2 1.41-.59l7.78-7.78 2.81-2.81c.8-.78.8-2.07 0-2.86zM5.41 20L4 18.59l7.72-7.72 1.47 1.35L5.41 20z\"/>\n",
              "  </svg>\n",
              "      </button>\n",
              "      \n",
              "  <style>\n",
              "    .colab-df-container {\n",
              "      display:flex;\n",
              "      flex-wrap:wrap;\n",
              "      gap: 12px;\n",
              "    }\n",
              "\n",
              "    .colab-df-convert {\n",
              "      background-color: #E8F0FE;\n",
              "      border: none;\n",
              "      border-radius: 50%;\n",
              "      cursor: pointer;\n",
              "      display: none;\n",
              "      fill: #1967D2;\n",
              "      height: 32px;\n",
              "      padding: 0 0 0 0;\n",
              "      width: 32px;\n",
              "    }\n",
              "\n",
              "    .colab-df-convert:hover {\n",
              "      background-color: #E2EBFA;\n",
              "      box-shadow: 0px 1px 2px rgba(60, 64, 67, 0.3), 0px 1px 3px 1px rgba(60, 64, 67, 0.15);\n",
              "      fill: #174EA6;\n",
              "    }\n",
              "\n",
              "    [theme=dark] .colab-df-convert {\n",
              "      background-color: #3B4455;\n",
              "      fill: #D2E3FC;\n",
              "    }\n",
              "\n",
              "    [theme=dark] .colab-df-convert:hover {\n",
              "      background-color: #434B5C;\n",
              "      box-shadow: 0px 1px 3px 1px rgba(0, 0, 0, 0.15);\n",
              "      filter: drop-shadow(0px 1px 2px rgba(0, 0, 0, 0.3));\n",
              "      fill: #FFFFFF;\n",
              "    }\n",
              "  </style>\n",
              "\n",
              "      <script>\n",
              "        const buttonEl =\n",
              "          document.querySelector('#df-19ea33df-894e-40c9-b9ad-b5a36fa39e6b button.colab-df-convert');\n",
              "        buttonEl.style.display =\n",
              "          google.colab.kernel.accessAllowed ? 'block' : 'none';\n",
              "\n",
              "        async function convertToInteractive(key) {\n",
              "          const element = document.querySelector('#df-19ea33df-894e-40c9-b9ad-b5a36fa39e6b');\n",
              "          const dataTable =\n",
              "            await google.colab.kernel.invokeFunction('convertToInteractive',\n",
              "                                                     [key], {});\n",
              "          if (!dataTable) return;\n",
              "\n",
              "          const docLinkHtml = 'Like what you see? Visit the ' +\n",
              "            '<a target=\"_blank\" href=https://colab.research.google.com/notebooks/data_table.ipynb>data table notebook</a>'\n",
              "            + ' to learn more about interactive tables.';\n",
              "          element.innerHTML = '';\n",
              "          dataTable['output_type'] = 'display_data';\n",
              "          await google.colab.output.renderOutput(dataTable, element);\n",
              "          const docLink = document.createElement('div');\n",
              "          docLink.innerHTML = docLinkHtml;\n",
              "          element.appendChild(docLink);\n",
              "        }\n",
              "      </script>\n",
              "    </div>\n",
              "  </div>\n",
              "  "
            ],
            "text/plain": [
              "           tconst titleType   originalTitle  ...  genre1     genre2 genre3\n",
              "526215  tt1160419     movie  Dune: Part One  ...  Action  Adventure  Drama\n",
              "\n",
              "[1 rows x 16 columns]"
            ]
          },
          "metadata": {},
          "execution_count": 16
        }
      ],
      "source": [
        "movies[movies['originalTitle']==( \"Dune: Part One\")]"
      ]
    },
    {
      "cell_type": "code",
      "execution_count": null,
      "metadata": {
        "colab": {
          "base_uri": "https://localhost:8080/",
          "height": 69
        },
        "id": "pZpxXmGFuPI2",
        "outputId": "c8ccd12d-30a2-4dd5-af92-c1e6089b23f9"
      },
      "outputs": [
        {
          "data": {
            "text/html": [
              "<div>\n",
              "<style scoped>\n",
              "    .dataframe tbody tr th:only-of-type {\n",
              "        vertical-align: middle;\n",
              "    }\n",
              "\n",
              "    .dataframe tbody tr th {\n",
              "        vertical-align: top;\n",
              "    }\n",
              "\n",
              "    .dataframe thead th {\n",
              "        text-align: right;\n",
              "    }\n",
              "</style>\n",
              "<table border=\"1\" class=\"dataframe\">\n",
              "  <thead>\n",
              "    <tr style=\"text-align: right;\">\n",
              "      <th></th>\n",
              "      <th>tconst</th>\n",
              "      <th>titleType</th>\n",
              "      <th>originalTitle</th>\n",
              "      <th>isAdult</th>\n",
              "      <th>startYear</th>\n",
              "      <th>endYear</th>\n",
              "      <th>runtimeMinutes</th>\n",
              "      <th>averageRating</th>\n",
              "      <th>numVotes</th>\n",
              "      <th>directors</th>\n",
              "      <th>genre1</th>\n",
              "      <th>genre2</th>\n",
              "      <th>genre3</th>\n",
              "    </tr>\n",
              "  </thead>\n",
              "  <tbody>\n",
              "  </tbody>\n",
              "</table>\n",
              "</div>"
            ],
            "text/plain": [
              "Empty DataFrame\n",
              "Columns: [tconst, titleType, originalTitle, isAdult, startYear, endYear, runtimeMinutes, averageRating, numVotes, directors, genre1, genre2, genre3]\n",
              "Index: []"
            ]
          },
          "execution_count": 10,
          "metadata": {},
          "output_type": "execute_result"
        }
      ],
      "source": [
        "movies[movies['numVotes']== 0]"
      ]
    },
    {
      "cell_type": "code",
      "execution_count": null,
      "metadata": {
        "colab": {
          "base_uri": "https://localhost:8080/"
        },
        "id": "KOcx4V4HstUq",
        "outputId": "ceabe6c8-3481-4b19-8d73-0d8a2d1a55eb"
      },
      "outputs": [
        {
          "output_type": "execute_result",
          "data": {
            "text/plain": [
              "count    4.768100e+04\n",
              "mean     2.150158e+04\n",
              "std      7.986732e+04\n",
              "min      1.000000e+03\n",
              "25%      1.615000e+03\n",
              "50%      3.103000e+03\n",
              "75%      9.302000e+03\n",
              "max      2.501754e+06\n",
              "Name: numVotes, dtype: float64"
            ]
          },
          "metadata": {},
          "execution_count": 50
        }
      ],
      "source": [
        "movies['numVotes'].describe()"
      ]
    },
    {
      "cell_type": "code",
      "execution_count": null,
      "metadata": {
        "id": "v5H9PnRqZ65Q"
      },
      "outputs": [],
      "source": [
        "movies['nu'].dropna(inplace=True)"
      ]
    },
    {
      "cell_type": "code",
      "execution_count": null,
      "metadata": {
        "colab": {
          "base_uri": "https://localhost:8080/",
          "height": 293
        },
        "id": "3QM5dqFObl5p",
        "outputId": "b6c2b37c-b2c6-4582-c87a-b8cb4b66e2b8"
      },
      "outputs": [
        {
          "data": {
            "text/plain": [
              "[<matplotlib.lines.Line2D at 0x7f1d64e67850>]"
            ]
          },
          "execution_count": 27,
          "metadata": {},
          "output_type": "execute_result"
        },
        {
          "data": {
            "image/png": "[encoded data removed]",
            "text/plain": [
              "<Figure size 432x288 with 1 Axes>"
            ]
          },
          "metadata": {},
          "output_type": "display_data"
        }
      ],
      "source": [
        "plt.plot(movies['averageRating'], movies['numVotes'])"
      ]
    },
    {
      "cell_type": "code",
      "execution_count": null,
      "metadata": {
        "colab": {
          "base_uri": "https://localhost:8080/"
        },
        "id": "9I6Ybm56djt_",
        "outputId": "3a4f5a95-e0b9-46d3-c762-edf086c215cd"
      },
      "outputs": [
        {
          "data": {
            "text/plain": [
              "1004567     690.0\n",
              "107588       34.0\n",
              "1018813       5.0\n",
              "186553       10.0\n",
              "311361      253.0\n",
              "190923     3293.0\n",
              "1186833     187.0\n",
              "885686       68.0\n",
              "289274       39.0\n",
              "152497      738.0\n",
              "49327      1073.0\n",
              "439565       54.0\n",
              "214763     1112.0\n",
              "17248      1205.0\n",
              "68272       203.0\n",
              "1078702      67.0\n",
              "341071       14.0\n",
              "253601       16.0\n",
              "271226      544.0\n",
              "373963       15.0\n",
              "87297       172.0\n",
              "444390       15.0\n",
              "312956       31.0\n",
              "875188       10.0\n",
              "194711       14.0\n",
              "97684        21.0\n",
              "313886       19.0\n",
              "376185      122.0\n",
              "105069      158.0\n",
              "331691       59.0\n",
              "445971       39.0\n",
              "160115      164.0\n",
              "279616       37.0\n",
              "224385       14.0\n",
              "930796      326.0\n",
              "806416       37.0\n",
              "275681       20.0\n",
              "401415       11.0\n",
              "959786        6.0\n",
              "1190129      12.0\n",
              "113393       39.0\n",
              "14004        23.0\n",
              "1075528      26.0\n",
              "477802        7.0\n",
              "22457       140.0\n",
              "351493      130.0\n",
              "44769       187.0\n",
              "138078      402.0\n",
              "110318      130.0\n",
              "102479       98.0\n",
              "Name: numVotes, dtype: float64"
            ]
          },
          "execution_count": 56,
          "metadata": {},
          "output_type": "execute_result"
        }
      ],
      "source": [
        "movies['numVotes'].sample(n=50)"
      ]
    },
    {
      "cell_type": "code",
      "execution_count": null,
      "metadata": {
        "colab": {
          "base_uri": "https://localhost:8080/"
        },
        "id": "W1_QI0BnHr2k",
        "outputId": "642ffc84-5f6c-4707-ebdc-d9dba434a475"
      },
      "outputs": [
        {
          "data": {
            "text/plain": [
              "English                                            35929\n",
              "French                                              3902\n",
              "Spanish                                             2831\n",
              "Japanese                                            2826\n",
              "Italian                                             2731\n",
              "                                                   ...  \n",
              "French, Hungarian, Italian, Swiss German, Latin        1\n",
              "Bosnian, Serbian, Croatian                             1\n",
              "French, German, English, Flemish, Japanese             1\n",
              "Catalan, English, Spanish                              1\n",
              "Spanish, Danish, French                                1\n",
              "Name: language, Length: 4377, dtype: int64"
            ]
          },
          "execution_count": 17,
          "metadata": {},
          "output_type": "execute_result"
        }
      ],
      "source": [
        "movies['language'].value_counts()"
      ]
    },
    {
      "cell_type": "code",
      "execution_count": null,
      "metadata": {
        "colab": {
          "base_uri": "https://localhost:8080/",
          "height": 235
        },
        "id": "FbwA5Gf3LkQp",
        "outputId": "cac22918-2658-4643-c48b-1dbcff1acf8a"
      },
      "outputs": [
        {
          "data": {
            "text/html": [
              "<div>\n",
              "<style scoped>\n",
              "    .dataframe tbody tr th:only-of-type {\n",
              "        vertical-align: middle;\n",
              "    }\n",
              "\n",
              "    .dataframe tbody tr th {\n",
              "        vertical-align: top;\n",
              "    }\n",
              "\n",
              "    .dataframe thead th {\n",
              "        text-align: right;\n",
              "    }\n",
              "</style>\n",
              "<table border=\"1\" class=\"dataframe\">\n",
              "  <thead>\n",
              "    <tr style=\"text-align: right;\">\n",
              "      <th></th>\n",
              "      <th>originalTitle</th>\n",
              "      <th>averageRating</th>\n",
              "    </tr>\n",
              "  </thead>\n",
              "  <tbody>\n",
              "    <tr>\n",
              "      <th>31310</th>\n",
              "      <td>The Parent Trap</td>\n",
              "      <td>6.6</td>\n",
              "    </tr>\n",
              "    <tr>\n",
              "      <th>36388</th>\n",
              "      <td>What Women Want</td>\n",
              "      <td>6.4</td>\n",
              "    </tr>\n",
              "    <tr>\n",
              "      <th>42542</th>\n",
              "      <td>Something's Gotta Give</td>\n",
              "      <td>6.7</td>\n",
              "    </tr>\n",
              "    <tr>\n",
              "      <th>47628</th>\n",
              "      <td>The Holiday</td>\n",
              "      <td>6.9</td>\n",
              "    </tr>\n",
              "    <tr>\n",
              "      <th>55724</th>\n",
              "      <td>It's Complicated</td>\n",
              "      <td>6.5</td>\n",
              "    </tr>\n",
              "    <tr>\n",
              "      <th>66629</th>\n",
              "      <td>The Intern</td>\n",
              "      <td>7.1</td>\n",
              "    </tr>\n",
              "  </tbody>\n",
              "</table>\n",
              "</div>"
            ],
            "text/plain": [
              "                originalTitle  averageRating\n",
              "31310         The Parent Trap            6.6\n",
              "36388         What Women Want            6.4\n",
              "42542  Something's Gotta Give            6.7\n",
              "47628             The Holiday            6.9\n",
              "55724        It's Complicated            6.5\n",
              "66629              The Intern            7.1"
            ]
          },
          "execution_count": 31,
          "metadata": {},
          "output_type": "execute_result"
        }
      ],
      "source": [
        "movies[movies['directors']==( \"nm0583600\")][['originalTitle', 'averageRating']]"
      ]
    },
    {
      "cell_type": "code",
      "execution_count": null,
      "metadata": {
        "id": "AcWeGky4t0ge",
        "colab": {
          "base_uri": "https://localhost:8080/",
          "height": 370
        },
        "outputId": "a3f38f9f-7bed-43a2-ca2f-89b7ccaf9691"
      },
      "outputs": [
        {
          "output_type": "execute_result",
          "data": {
            "text/html": [
              "\n",
              "  <div id=\"df-569a8d32-4360-4b7d-a721-335445bb60f9\">\n",
              "    <div class=\"colab-df-container\">\n",
              "      <div>\n",
              "<style scoped>\n",
              "    .dataframe tbody tr th:only-of-type {\n",
              "        vertical-align: middle;\n",
              "    }\n",
              "\n",
              "    .dataframe tbody tr th {\n",
              "        vertical-align: top;\n",
              "    }\n",
              "\n",
              "    .dataframe thead th {\n",
              "        text-align: right;\n",
              "    }\n",
              "</style>\n",
              "<table border=\"1\" class=\"dataframe\">\n",
              "  <thead>\n",
              "    <tr style=\"text-align: right;\">\n",
              "      <th></th>\n",
              "      <th>tconst</th>\n",
              "      <th>titleType</th>\n",
              "      <th>originalTitle</th>\n",
              "      <th>isAdult</th>\n",
              "      <th>startYear</th>\n",
              "      <th>endYear</th>\n",
              "      <th>runtimeMinutes</th>\n",
              "      <th>averageRating</th>\n",
              "      <th>numVotes</th>\n",
              "      <th>directors</th>\n",
              "      <th>writers</th>\n",
              "      <th>language</th>\n",
              "      <th>director</th>\n",
              "      <th>genre1</th>\n",
              "      <th>genre2</th>\n",
              "      <th>genre3</th>\n",
              "    </tr>\n",
              "  </thead>\n",
              "  <tbody>\n",
              "    <tr>\n",
              "      <th>0</th>\n",
              "      <td>tt0000001</td>\n",
              "      <td>short</td>\n",
              "      <td>Carmencita</td>\n",
              "      <td>0</td>\n",
              "      <td>1894</td>\n",
              "      <td>\\N</td>\n",
              "      <td>1</td>\n",
              "      <td>5.7</td>\n",
              "      <td>1846</td>\n",
              "      <td>nm0005690</td>\n",
              "      <td>\\N</td>\n",
              "      <td>none</td>\n",
              "      <td>NaN</td>\n",
              "      <td>Documentary</td>\n",
              "      <td>Short</td>\n",
              "      <td>None</td>\n",
              "    </tr>\n",
              "    <tr>\n",
              "      <th>2</th>\n",
              "      <td>tt0000003</td>\n",
              "      <td>short</td>\n",
              "      <td>Pauvre Pierrot</td>\n",
              "      <td>0</td>\n",
              "      <td>1892</td>\n",
              "      <td>\\N</td>\n",
              "      <td>4</td>\n",
              "      <td>6.5</td>\n",
              "      <td>1608</td>\n",
              "      <td>nm0721526</td>\n",
              "      <td>\\N</td>\n",
              "      <td>none</td>\n",
              "      <td>NaN</td>\n",
              "      <td>Animation</td>\n",
              "      <td>Comedy</td>\n",
              "      <td>Romance</td>\n",
              "    </tr>\n",
              "    <tr>\n",
              "      <th>4</th>\n",
              "      <td>tt0000005</td>\n",
              "      <td>short</td>\n",
              "      <td>Blacksmith Scene</td>\n",
              "      <td>0</td>\n",
              "      <td>1893</td>\n",
              "      <td>\\N</td>\n",
              "      <td>1</td>\n",
              "      <td>6.2</td>\n",
              "      <td>2431</td>\n",
              "      <td>nm0005690</td>\n",
              "      <td>\\N</td>\n",
              "      <td>none</td>\n",
              "      <td>NaN</td>\n",
              "      <td>Comedy</td>\n",
              "      <td>Short</td>\n",
              "      <td>None</td>\n",
              "    </tr>\n",
              "    <tr>\n",
              "      <th>7</th>\n",
              "      <td>tt0000008</td>\n",
              "      <td>short</td>\n",
              "      <td>Edison Kinetoscopic Record of a Sneeze</td>\n",
              "      <td>0</td>\n",
              "      <td>1894</td>\n",
              "      <td>\\N</td>\n",
              "      <td>1</td>\n",
              "      <td>5.5</td>\n",
              "      <td>1992</td>\n",
              "      <td>nm0005690</td>\n",
              "      <td>\\N</td>\n",
              "      <td>none</td>\n",
              "      <td>NaN</td>\n",
              "      <td>Documentary</td>\n",
              "      <td>Short</td>\n",
              "      <td>None</td>\n",
              "    </tr>\n",
              "    <tr>\n",
              "      <th>9</th>\n",
              "      <td>tt0000010</td>\n",
              "      <td>short</td>\n",
              "      <td>La sortie de l'usine Lumière à Lyon</td>\n",
              "      <td>0</td>\n",
              "      <td>1895</td>\n",
              "      <td>\\N</td>\n",
              "      <td>1</td>\n",
              "      <td>6.9</td>\n",
              "      <td>6650</td>\n",
              "      <td>nm0525910</td>\n",
              "      <td>\\N</td>\n",
              "      <td>none</td>\n",
              "      <td>NaN</td>\n",
              "      <td>Documentary</td>\n",
              "      <td>Short</td>\n",
              "      <td>None</td>\n",
              "    </tr>\n",
              "  </tbody>\n",
              "</table>\n",
              "</div>\n",
              "      <button class=\"colab-df-convert\" onclick=\"convertToInteractive('df-569a8d32-4360-4b7d-a721-335445bb60f9')\"\n",
              "              title=\"Convert this dataframe to an interactive table.\"\n",
              "              style=\"display:none;\">\n",
              "        \n",
              "  <svg xmlns=\"http://www.w3.org/2000/svg\" height=\"24px\"viewBox=\"0 0 24 24\"\n",
              "       width=\"24px\">\n",
              "    <path d=\"M0 0h24v24H0V0z\" fill=\"none\"/>\n",
              "    <path d=\"M18.56 5.44l.94 2.06.94-2.06 2.06-.94-2.06-.94-.94-2.06-.94 2.06-2.06.94zm-11 1L8.5 8.5l.94-2.06 2.06-.94-2.06-.94L8.5 2.5l-.94 2.06-2.06.94zm10 10l.94 2.06.94-2.06 2.06-.94-2.06-.94-.94-2.06-.94 2.06-2.06.94z\"/><path d=\"M17.41 7.96l-1.37-1.37c-.4-.4-.92-.59-1.43-.59-.52 0-1.04.2-1.43.59L10.3 9.45l-7.72 7.72c-.78.78-.78 2.05 0 2.83L4 21.41c.39.39.9.59 1.41.59.51 0 1.02-.2 1.41-.59l7.78-7.78 2.81-2.81c.8-.78.8-2.07 0-2.86zM5.41 20L4 18.59l7.72-7.72 1.47 1.35L5.41 20z\"/>\n",
              "  </svg>\n",
              "      </button>\n",
              "      \n",
              "  <style>\n",
              "    .colab-df-container {\n",
              "      display:flex;\n",
              "      flex-wrap:wrap;\n",
              "      gap: 12px;\n",
              "    }\n",
              "\n",
              "    .colab-df-convert {\n",
              "      background-color: #E8F0FE;\n",
              "      border: none;\n",
              "      border-radius: 50%;\n",
              "      cursor: pointer;\n",
              "      display: none;\n",
              "      fill: #1967D2;\n",
              "      height: 32px;\n",
              "      padding: 0 0 0 0;\n",
              "      width: 32px;\n",
              "    }\n",
              "\n",
              "    .colab-df-convert:hover {\n",
              "      background-color: #E2EBFA;\n",
              "      box-shadow: 0px 1px 2px rgba(60, 64, 67, 0.3), 0px 1px 3px 1px rgba(60, 64, 67, 0.15);\n",
              "      fill: #174EA6;\n",
              "    }\n",
              "\n",
              "    [theme=dark] .colab-df-convert {\n",
              "      background-color: #3B4455;\n",
              "      fill: #D2E3FC;\n",
              "    }\n",
              "\n",
              "    [theme=dark] .colab-df-convert:hover {\n",
              "      background-color: #434B5C;\n",
              "      box-shadow: 0px 1px 3px 1px rgba(0, 0, 0, 0.15);\n",
              "      filter: drop-shadow(0px 1px 2px rgba(0, 0, 0, 0.3));\n",
              "      fill: #FFFFFF;\n",
              "    }\n",
              "  </style>\n",
              "\n",
              "      <script>\n",
              "        const buttonEl =\n",
              "          document.querySelector('#df-569a8d32-4360-4b7d-a721-335445bb60f9 button.colab-df-convert');\n",
              "        buttonEl.style.display =\n",
              "          google.colab.kernel.accessAllowed ? 'block' : 'none';\n",
              "\n",
              "        async function convertToInteractive(key) {\n",
              "          const element = document.querySelector('#df-569a8d32-4360-4b7d-a721-335445bb60f9');\n",
              "          const dataTable =\n",
              "            await google.colab.kernel.invokeFunction('convertToInteractive',\n",
              "                                                     [key], {});\n",
              "          if (!dataTable) return;\n",
              "\n",
              "          const docLinkHtml = 'Like what you see? Visit the ' +\n",
              "            '<a target=\"_blank\" href=https://colab.research.google.com/notebooks/data_table.ipynb>data table notebook</a>'\n",
              "            + ' to learn more about interactive tables.';\n",
              "          element.innerHTML = '';\n",
              "          dataTable['output_type'] = 'display_data';\n",
              "          await google.colab.output.renderOutput(dataTable, element);\n",
              "          const docLink = document.createElement('div');\n",
              "          docLink.innerHTML = docLinkHtml;\n",
              "          element.appendChild(docLink);\n",
              "        }\n",
              "      </script>\n",
              "    </div>\n",
              "  </div>\n",
              "  "
            ],
            "text/plain": [
              "      tconst titleType  ...  genre2   genre3\n",
              "0  tt0000001     short  ...   Short     None\n",
              "2  tt0000003     short  ...  Comedy  Romance\n",
              "4  tt0000005     short  ...   Short     None\n",
              "7  tt0000008     short  ...   Short     None\n",
              "9  tt0000010     short  ...   Short     None\n",
              "\n",
              "[5 rows x 16 columns]"
            ]
          },
          "metadata": {},
          "execution_count": 19
        }
      ],
      "source": [
        "movies.head()"
      ]
    },
    {
      "cell_type": "markdown",
      "metadata": {
        "id": "vvDXrwLC-z_r"
      },
      "source": [
        "# EMAILING RESULTS"
      ]
    },
    {
      "cell_type": "code",
      "execution_count": null,
      "metadata": {
        "id": "nFQd2DpN-6YY"
      },
      "outputs": [],
      "source": [
        "import smtplib, ssl\n",
        "\n",
        "port = 465  # For SSL\n",
        "smtp_server = \"smtp.gmail.com\"\n",
        "sender_email = 'enter sender mail address:'  # Enter your address\n",
        "receiver_email = 'enter receiver mail address:'  # Enter receiver address\n",
        "password = \"Type your password and press enter: \"\n",
        "message = 'enter myour message:'\n",
        "\n",
        "context = ssl.create_default_context()\n",
        "with smtplib.SMTP_SSL(smtp_server, port, context=context) as server:\n",
        "    server.login(sender_email, password)\n",
        "    server.sendmail(sender_email, receiver_email, message)"
      ]
    },
    {
      "cell_type": "code",
      "execution_count": null,
      "metadata": {
        "id": "Iv_DMr4s3sx0"
      },
      "outputs": [],
      "source": [
        ""
      ]
    }
  ],
  "metadata": {
    "accelerator": "TPU",
    "colab": {
      "collapsed_sections": [
        "7aXto7XyGFrE",
        "o8sExX9_7mP0"
      ],
      "machine_shape": "hm",
      "name": "IMDB REC.ipynb",
      "provenance": [],
      "include_colab_link": true
    },
    "kernelspec": {
      "display_name": "Python 3",
      "name": "python3"
    }
  },
  "nbformat": 4,
  "nbformat_minor": 0
}