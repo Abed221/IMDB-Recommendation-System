{
  "nbformat": 4,
  "nbformat_minor": 0,
  "metadata": {
    "colab": {
      "name": "IMDB REC.ipynb",
      "provenance": [],
      "collapsed_sections": [
        "x55WPynzFJ0W",
        "7aXto7XyGFrE",
        "Qf_Q9ieqWR8Q",
        "PKln0bw8v46X",
        "o8sExX9_7mP0"
      ],
      "machine_shape": "hm",
      "include_colab_link": true
    },
    "kernelspec": {
      "name": "python3",
      "display_name": "Python 3"
    },
    "accelerator": "TPU"
  },
  "cells": [
    {
      "cell_type": "markdown",
      "metadata": {
        "id": "view-in-github",
        "colab_type": "text"
      },
      "source": [
        "<a href=\"https://colab.research.google.com/github/Abed221/IMDB-Recommendation-System/blob/main/IMDB_REC.ipynb\" target=\"_parent\"><img src=\"https://colab.research.google.com/assets/colab-badge.svg\" alt=\"Open In Colab\"/></a>"
      ]
    },
    {
      "cell_type": "markdown",
      "metadata": {
        "id": "4cbgwZWWfWpp"
      },
      "source": [
        "# Imports"
      ]
    },
    {
      "cell_type": "code",
      "metadata": {
        "id": "n1_K400MEnnQ"
      },
      "source": [
        "#Environment Setup\n",
        "import pandas as pd\n",
        "import matplotlib.pyplot as plt\n",
        "import numpy as np\n",
        "%matplotlib inline"
      ],
      "execution_count": 2,
      "outputs": []
    },
    {
      "cell_type": "markdown",
      "metadata": {
        "id": "N_n7iWRrfPRY"
      },
      "source": [
        "We didn't need the actor name dataset because we can use the nconst as a reference number through the principal and basics datasets and match these with each other"
      ]
    },
    {
      "cell_type": "code",
      "metadata": {
        "id": "aMfk93owHh5G"
      },
      "source": [
        "!wget 'https://datasets.imdbws.com/title.basics.tsv.gz'\n",
        "!wget 'https://datasets.imdbws.com/title.crew.tsv.gz'\n",
        "!wget 'https://datasets.imdbws.com/title.ratings.tsv.gz'\n",
        "!wget 'https://raw.githubusercontent.com/sahildit/IMDB-Movies-Extensive-Dataset-Analysis/master/data1/IMDb%20movies.csv'"
      ],
      "execution_count": null,
      "outputs": []
    },
    {
      "cell_type": "code",
      "metadata": {
        "id": "A1kA6l7GXRTF"
      },
      "source": [
        "!gunzip /content/title.basics.tsv.gz\n",
        "!gunzip /content/title.crew.tsv.gz\n",
        "!gunzip /content/title.ratings.tsv.gz"
      ],
      "execution_count": 11,
      "outputs": []
    },
    {
      "cell_type": "code",
      "metadata": {
        "id": "HVd7LJH-fsFR"
      },
      "source": [
        "principals = pd.read_csv('title.crew.tsv', sep='\\t')\n",
        "movies = pd.read_csv('title.basics.tsv', sep='\\t')\n",
        "ratings = pd.read_csv('title.ratings.tsv', sep='\\t')\n",
        "languages = pd.read_csv('IMDb movies.csv')"
      ],
      "execution_count": null,
      "outputs": []
    },
    {
      "cell_type": "markdown",
      "metadata": {
        "id": "x55WPynzFJ0W"
      },
      "source": [
        "##Cleaning Data in the final dataframe"
      ]
    },
    {
      "cell_type": "code",
      "metadata": {
        "id": "uty7GjOX1UYv"
      },
      "source": [
        "#Ratings\n",
        "movies = pd.merge(movies, ratings, on=['tconst'])\n",
        "\n",
        "#Directors\n",
        "df2 = principals['directors']\n",
        "movies = movies.join(df2)\n",
        "\n",
        "#preparing languages dataframe for the merge\n",
        "languages.rename(columns={'imdb_title_id': 'tconst'}, inplace=True)\n",
        "movies = pd.merge(movies, languages, on=['tconst'])"
      ],
      "execution_count": 13,
      "outputs": []
    },
    {
      "cell_type": "code",
      "metadata": {
        "id": "eWyNKaf0IXcV",
        "colab": {
          "base_uri": "https://localhost:8080/"
        },
        "outputId": "d759f56a-569d-4547-b0ab-7833a6086a68"
      },
      "source": [
        "#Fitering unwanted titletypes\n",
        "movies.drop('primaryTitle', axis=1, inplace=True)\n",
        "movies = movies[movies['titleType'] != 'tvPilot']\n",
        "movies = movies[movies['titleType'] != 'videoGame']\n",
        "movies = movies[movies['titleType'] != 'tvShort']\n",
        "movies = movies[movies['titleType'] != 'video']\n",
        "movies = movies[movies['titleType'] != 'tvEpisode']\n",
        "movies = movies[movies['titleType'] != 'Short']"
      ],
      "execution_count": 8,
      "outputs": [
        {
          "output_type": "execute_result",
          "data": {
            "text/plain": [
              "Drama                        63911\n",
              "Documentary                  43932\n",
              "Comedy                       42972\n",
              "Drama,Short                  22201\n",
              "Short                        20315\n",
              "                             ...  \n",
              "Biography,Comedy,Thriller        1\n",
              "Adventure,Sci-Fi,Sport           1\n",
              "Short,Sport,Western              1\n",
              "Comedy,Crime,Game-Show           1\n",
              "Documentary,Sport,Western        1\n",
              "Name: genres, Length: 1934, dtype: int64"
            ]
          },
          "metadata": {},
          "execution_count": 8
        }
      ]
    },
    {
      "cell_type": "code",
      "metadata": {
        "id": "blTHSiY0jYWE"
      },
      "source": [
        "# Filtering irrelevant movies with awful rating/not released yet\n",
        "movies = movies[movies['averageRating'] >= 2.0]\n",
        "movies = movies[movies['numVotes'] >= 1000]\n",
        "movies = movies[movies['startYear'] < 2022]"
      ],
      "execution_count": 9,
      "outputs": []
    },
    {
      "cell_type": "code",
      "metadata": {
        "id": "saK7UNguoX3_"
      },
      "source": [
        "# Changing startyear dtype and incorrect values\n",
        "movies['startYear'].replace(to_replace = r\"\\N\", value= 2000, inplace=True)\n",
        "movies['startYear'] = pd.to_numeric(movies['startYear'])"
      ],
      "execution_count": 10,
      "outputs": []
    },
    {
      "cell_type": "code",
      "metadata": {
        "id": "pf_inyGIKiTY"
      },
      "source": [
        "# Splitting Genres text values to multiple genre columns\n",
        "new = movies[\"genres\"].str.split(\",\", n=2 ,expand = True)\n",
        "  \n",
        "# making separate first name column from new data frame\n",
        "movies[\"genre1\"]= new[0]\n",
        "movies[\"genre2\"]= new[1]\n",
        "movies[\"genre3\"]= new[2]\n",
        "  \n",
        "# Dropping old Name columns\n",
        "movies.drop(columns =[\"genres\"], inplace = True)"
      ],
      "execution_count": 11,
      "outputs": []
    },
    {
      "cell_type": "markdown",
      "metadata": {
        "id": "7aXto7XyGFrE"
      },
      "source": [
        "##Checking the final dataframe"
      ]
    },
    {
      "cell_type": "code",
      "metadata": {
        "colab": {
          "base_uri": "https://localhost:8080/",
          "height": 185
        },
        "id": "S9K4pU1zLalx",
        "outputId": "625446cc-b33d-4ead-de46-41f025184392"
      },
      "source": [
        "movies.head()"
      ],
      "execution_count": 16,
      "outputs": [
        {
          "output_type": "execute_result",
          "data": {
            "text/html": [
              "<div>\n",
              "<style scoped>\n",
              "    .dataframe tbody tr th:only-of-type {\n",
              "        vertical-align: middle;\n",
              "    }\n",
              "\n",
              "    .dataframe tbody tr th {\n",
              "        vertical-align: top;\n",
              "    }\n",
              "\n",
              "    .dataframe thead th {\n",
              "        text-align: right;\n",
              "    }\n",
              "</style>\n",
              "<table border=\"1\" class=\"dataframe\">\n",
              "  <thead>\n",
              "    <tr style=\"text-align: right;\">\n",
              "      <th></th>\n",
              "      <th>tconst</th>\n",
              "      <th>titleType</th>\n",
              "      <th>primaryTitle</th>\n",
              "      <th>originalTitle</th>\n",
              "      <th>isAdult</th>\n",
              "      <th>startYear</th>\n",
              "      <th>endYear</th>\n",
              "      <th>runtimeMinutes</th>\n",
              "      <th>genres</th>\n",
              "      <th>averageRating</th>\n",
              "      <th>numVotes</th>\n",
              "      <th>directors</th>\n",
              "      <th>title</th>\n",
              "      <th>original_title</th>\n",
              "      <th>year</th>\n",
              "      <th>date_published</th>\n",
              "      <th>genre</th>\n",
              "      <th>duration</th>\n",
              "      <th>country</th>\n",
              "      <th>language</th>\n",
              "      <th>director</th>\n",
              "      <th>writer</th>\n",
              "      <th>production_company</th>\n",
              "      <th>actors</th>\n",
              "      <th>description</th>\n",
              "      <th>avg_vote</th>\n",
              "      <th>votes</th>\n",
              "      <th>budget</th>\n",
              "      <th>usa_gross_income</th>\n",
              "      <th>worlwide_gross_income</th>\n",
              "      <th>metascore</th>\n",
              "      <th>reviews_from_users</th>\n",
              "      <th>reviews_from_critics</th>\n",
              "    </tr>\n",
              "  </thead>\n",
              "  <tbody>\n",
              "    <tr>\n",
              "      <th>0</th>\n",
              "      <td>tt0000009</td>\n",
              "      <td>short</td>\n",
              "      <td>Miss Jerry</td>\n",
              "      <td>Miss Jerry</td>\n",
              "      <td>0</td>\n",
              "      <td>1894</td>\n",
              "      <td>\\N</td>\n",
              "      <td>40</td>\n",
              "      <td>Romance,Short</td>\n",
              "      <td>5.9</td>\n",
              "      <td>191</td>\n",
              "      <td>nm0085156</td>\n",
              "      <td>Miss Jerry</td>\n",
              "      <td>Miss Jerry</td>\n",
              "      <td>1894</td>\n",
              "      <td>1894-10-09</td>\n",
              "      <td>Romance</td>\n",
              "      <td>45</td>\n",
              "      <td>USA</td>\n",
              "      <td>None</td>\n",
              "      <td>Alexander Black</td>\n",
              "      <td>Alexander Black</td>\n",
              "      <td>Alexander Black Photoplays</td>\n",
              "      <td>Blanche Bayliss, William Courtenay, Chauncey D...</td>\n",
              "      <td>The adventures of a female reporter in the 1890s.</td>\n",
              "      <td>5.9</td>\n",
              "      <td>154</td>\n",
              "      <td>NaN</td>\n",
              "      <td>NaN</td>\n",
              "      <td>NaN</td>\n",
              "      <td>NaN</td>\n",
              "      <td>1.0</td>\n",
              "      <td>2.0</td>\n",
              "    </tr>\n",
              "  </tbody>\n",
              "</table>\n",
              "</div>"
            ],
            "text/plain": [
              "      tconst titleType  ... reviews_from_users reviews_from_critics\n",
              "0  tt0000009     short  ...                1.0                  2.0\n",
              "\n",
              "[1 rows x 33 columns]"
            ]
          },
          "metadata": {},
          "execution_count": 16
        }
      ]
    },
    {
      "cell_type": "code",
      "metadata": {
        "colab": {
          "base_uri": "https://localhost:8080/"
        },
        "id": "w3WzOrxTuEGx",
        "outputId": "581d3095-2b95-48ef-886b-79ca903400f4"
      },
      "source": [
        "movies['genres'].value_counts()"
      ],
      "execution_count": null,
      "outputs": [
        {
          "output_type": "execute_result",
          "data": {
            "text/plain": [
              "\\N     1815056\n",
              "en           5\n",
              "ja           1\n",
              "da           1\n",
              "yue          1\n",
              "cmn          1\n",
              "ca           1\n",
              "Name: language, dtype: int64"
            ]
          },
          "metadata": {},
          "execution_count": 8
        }
      ]
    },
    {
      "cell_type": "markdown",
      "metadata": {
        "id": "Qf_Q9ieqWR8Q"
      },
      "source": [
        "#Movie name input\n",
        "\n",
        "---\n",
        "\n",
        "\n",
        "\n",
        "---\n",
        "\n"
      ]
    },
    {
      "cell_type": "code",
      "metadata": {
        "colab": {
          "base_uri": "https://localhost:8080/"
        },
        "id": "7pZToBrzRRpc",
        "outputId": "3298341d-f7ba-4914-ed74-336a2bd4388e"
      },
      "source": [
        "#Original title\n",
        "title = input()\n",
        "\n",
        "#Year of production\n",
        "year = input()\n",
        "year = int(year)\n",
        "\n",
        "#ٍSepcify Title Type\n",
        "titletype = movies[(movies['originalTitle']==title) & (movies['startYear']==year)]['titleType'].iloc[0]\n",
        "#Movie genre\n",
        "genre = movies[(movies['originalTitle'] == title) & (movies['startYear']==year)]['genre1'].iloc[0]\n",
        "\n",
        "#Movie Director\n",
        "director = movies[(movies['originalTitle'] == title)& (movies['startYear']==year)]['directors'].iloc[0]\n",
        "\n",
        "#Movie Average Rating\n",
        "rating = movies[(movies['originalTitle'] == title)& (movies['startYear']==year)]['averageRating'].iloc[0]"
      ],
      "execution_count": 53,
      "outputs": [
        {
          "name": "stdout",
          "output_type": "stream",
          "text": [
            "Kimi no na wa.\n",
            "2016\n"
          ]
        }
      ]
    },
    {
      "cell_type": "code",
      "metadata": {
        "colab": {
          "base_uri": "https://localhost:8080/"
        },
        "id": "imMCm5nck-vt",
        "outputId": "f1ead2b8-f1ff-43cc-8ba2-f075be220306"
      },
      "source": [
        "print(genre)\n",
        "print(director)\n",
        "print(year)\n",
        "print(titletype)"
      ],
      "execution_count": 54,
      "outputs": [
        {
          "output_type": "stream",
          "name": "stdout",
          "text": [
            "Animation\n",
            "nm9505932\n",
            "2016\n",
            "movie\n"
          ]
        }
      ]
    },
    {
      "cell_type": "code",
      "metadata": {
        "colab": {
          "base_uri": "https://localhost:8080/"
        },
        "id": "jEoIH_rC5pVe",
        "outputId": "b701dcfb-8f37-4bb3-cbc6-cad4edac7d90"
      },
      "source": [
        "#output 1 (genre + better rating)\n",
        "result = movies[(movies['genre1'] == genre) & (movies['titleType']==titletype) & (movies['averageRating']>=rating)]['originalTitle'].sample().iloc[0]\n",
        "result2=0\n",
        "#output 2 (genre + director)\n",
        "if ((movies[(movies['directors'].str.contains(director, case=False)) & (movies['genre1']==genre) & (movies['titleType']==titletype)]['originalTitle'])).empty == False:\n",
        "  result2 = movies.loc[(movies['directors']==director) & ((movies['genre1']==genre) | (movies['genre2']==genre) | (movies['genre3']==genre)) & (movies['titleType']==titletype)]['originalTitle'].sample().iloc[0]\n",
        "\n",
        "#output 3 (genre + year)\n",
        "res3 = movies[movies['startYear'].between(year-20, year+20)]\n",
        "result3 = res3[(((res3['genre1'].str.contains(genre, case=False)) | (movies['genre2'].str.contains(genre, case=False)) | (movies['genre3'].str.contains(genre, case=False)))) & (movies['titleType']==titletype)]['originalTitle'].sample().iloc[0]\n"
      ],
      "execution_count": 55,
      "outputs": [
        {
          "output_type": "stream",
          "name": "stderr",
          "text": [
            "/usr/local/lib/python3.7/dist-packages/ipykernel_launcher.py:10: UserWarning: Boolean Series key will be reindexed to match DataFrame index.\n",
            "  # Remove the CWD from sys.path while we load stuff.\n"
          ]
        }
      ]
    },
    {
      "cell_type": "markdown",
      "metadata": {
        "id": "PKln0bw8v46X"
      },
      "source": [
        "#Final Output "
      ]
    },
    {
      "cell_type": "code",
      "metadata": {
        "colab": {
          "base_uri": "https://localhost:8080/"
        },
        "id": "no5s-oBFv6dU",
        "outputId": "56df0d4e-c7ae-4eec-987a-cb454f446b21"
      },
      "source": [
        "print(result)\n",
        "print(result2)\n",
        "print(result3)"
      ],
      "execution_count": 56,
      "outputs": [
        {
          "output_type": "stream",
          "name": "stdout",
          "text": [
            "Mushi-Shi Zoku Shou: Suzu no Shizuku\n",
            "Kimi no na wa.\n",
            "The Peanuts Movie\n"
          ]
        }
      ]
    },
    {
      "cell_type": "markdown",
      "metadata": {
        "id": "o8sExX9_7mP0"
      },
      "source": [
        "#ٌFuckup Region"
      ]
    },
    {
      "cell_type": "code",
      "metadata": {
        "colab": {
          "base_uri": "https://localhost:8080/",
          "height": 100
        },
        "id": "os8hAYz2Ybg_",
        "outputId": "e7f65c39-61b9-4eac-9a62-27744b9b57d1"
      },
      "source": [
        "movies[movies['originalTitle']==( \"Kimi no na wa.\")]"
      ],
      "execution_count": 29,
      "outputs": [
        {
          "output_type": "execute_result",
          "data": {
            "text/html": [
              "<div>\n",
              "<style scoped>\n",
              "    .dataframe tbody tr th:only-of-type {\n",
              "        vertical-align: middle;\n",
              "    }\n",
              "\n",
              "    .dataframe tbody tr th {\n",
              "        vertical-align: top;\n",
              "    }\n",
              "\n",
              "    .dataframe thead th {\n",
              "        text-align: right;\n",
              "    }\n",
              "</style>\n",
              "<table border=\"1\" class=\"dataframe\">\n",
              "  <thead>\n",
              "    <tr style=\"text-align: right;\">\n",
              "      <th></th>\n",
              "      <th>tconst</th>\n",
              "      <th>titleType</th>\n",
              "      <th>originalTitle</th>\n",
              "      <th>isAdult</th>\n",
              "      <th>startYear</th>\n",
              "      <th>endYear</th>\n",
              "      <th>runtimeMinutes</th>\n",
              "      <th>averageRating</th>\n",
              "      <th>numVotes</th>\n",
              "      <th>directors</th>\n",
              "      <th>genre1</th>\n",
              "      <th>genre2</th>\n",
              "      <th>genre3</th>\n",
              "    </tr>\n",
              "  </thead>\n",
              "  <tbody>\n",
              "    <tr>\n",
              "      <th>990917</th>\n",
              "      <td>tt5311514</td>\n",
              "      <td>movie</td>\n",
              "      <td>Kimi no na wa.</td>\n",
              "      <td>0</td>\n",
              "      <td>2016</td>\n",
              "      <td>\\N</td>\n",
              "      <td>106</td>\n",
              "      <td>8.4</td>\n",
              "      <td>231854</td>\n",
              "      <td>nm9505932</td>\n",
              "      <td>Animation</td>\n",
              "      <td>Drama</td>\n",
              "      <td>Fantasy</td>\n",
              "    </tr>\n",
              "  </tbody>\n",
              "</table>\n",
              "</div>"
            ],
            "text/plain": [
              "           tconst titleType   originalTitle  ...     genre1  genre2   genre3\n",
              "990917  tt5311514     movie  Kimi no na wa.  ...  Animation   Drama  Fantasy\n",
              "\n",
              "[1 rows x 13 columns]"
            ]
          },
          "metadata": {},
          "execution_count": 29
        }
      ]
    },
    {
      "cell_type": "code",
      "metadata": {
        "colab": {
          "base_uri": "https://localhost:8080/",
          "height": 69
        },
        "id": "pZpxXmGFuPI2",
        "outputId": "c8ccd12d-30a2-4dd5-af92-c1e6089b23f9"
      },
      "source": [
        "movies[movies['numVotes']== 0]"
      ],
      "execution_count": null,
      "outputs": [
        {
          "output_type": "execute_result",
          "data": {
            "text/html": [
              "<div>\n",
              "<style scoped>\n",
              "    .dataframe tbody tr th:only-of-type {\n",
              "        vertical-align: middle;\n",
              "    }\n",
              "\n",
              "    .dataframe tbody tr th {\n",
              "        vertical-align: top;\n",
              "    }\n",
              "\n",
              "    .dataframe thead th {\n",
              "        text-align: right;\n",
              "    }\n",
              "</style>\n",
              "<table border=\"1\" class=\"dataframe\">\n",
              "  <thead>\n",
              "    <tr style=\"text-align: right;\">\n",
              "      <th></th>\n",
              "      <th>tconst</th>\n",
              "      <th>titleType</th>\n",
              "      <th>originalTitle</th>\n",
              "      <th>isAdult</th>\n",
              "      <th>startYear</th>\n",
              "      <th>endYear</th>\n",
              "      <th>runtimeMinutes</th>\n",
              "      <th>averageRating</th>\n",
              "      <th>numVotes</th>\n",
              "      <th>directors</th>\n",
              "      <th>genre1</th>\n",
              "      <th>genre2</th>\n",
              "      <th>genre3</th>\n",
              "    </tr>\n",
              "  </thead>\n",
              "  <tbody>\n",
              "  </tbody>\n",
              "</table>\n",
              "</div>"
            ],
            "text/plain": [
              "Empty DataFrame\n",
              "Columns: [tconst, titleType, originalTitle, isAdult, startYear, endYear, runtimeMinutes, averageRating, numVotes, directors, genre1, genre2, genre3]\n",
              "Index: []"
            ]
          },
          "metadata": {},
          "execution_count": 10
        }
      ]
    },
    {
      "cell_type": "code",
      "metadata": {
        "colab": {
          "base_uri": "https://localhost:8080/",
          "height": 164
        },
        "id": "KOcx4V4HstUq",
        "outputId": "a697c8c7-90f9-4587-8a12-f13a92645aa7"
      },
      "source": [
        "movies.head()"
      ],
      "execution_count": null,
      "outputs": [
        {
          "output_type": "error",
          "ename": "AttributeError",
          "evalue": "ignored",
          "traceback": [
            "\u001b[0;31m---------------------------------------------------------------------------\u001b[0m",
            "\u001b[0;31mAttributeError\u001b[0m                            Traceback (most recent call last)",
            "\u001b[0;32m<ipython-input-170-99354095a75d>\u001b[0m in \u001b[0;36m<module>\u001b[0;34m()\u001b[0m\n\u001b[0;32m----> 1\u001b[0;31m \u001b[0mmovies\u001b[0m\u001b[0;34m.\u001b[0m\u001b[0mhead\u001b[0m\u001b[0;34m(\u001b[0m\u001b[0;34m)\u001b[0m\u001b[0;34m\u001b[0m\u001b[0;34m\u001b[0m\u001b[0m\n\u001b[0m",
            "\u001b[0;31mAttributeError\u001b[0m: 'NoneType' object has no attribute 'head'"
          ]
        }
      ]
    },
    {
      "cell_type": "code",
      "metadata": {
        "colab": {
          "base_uri": "https://localhost:8080/"
        },
        "id": "4E27tm51Zqu2",
        "outputId": "75766a20-010b-44bb-d81c-c08e965d5c3b"
      },
      "source": [
        "movies['numVotes'].isna().value_counts()"
      ],
      "execution_count": null,
      "outputs": [
        {
          "output_type": "execute_result",
          "data": {
            "text/plain": [
              "True     1357532\n",
              "False     499935\n",
              "Name: numVotes, dtype: int64"
            ]
          },
          "metadata": {},
          "execution_count": 13
        }
      ]
    },
    {
      "cell_type": "code",
      "metadata": {
        "id": "v5H9PnRqZ65Q"
      },
      "source": [
        "movies['nu'].dropna(inplace=True)"
      ],
      "execution_count": null,
      "outputs": []
    },
    {
      "cell_type": "code",
      "metadata": {
        "colab": {
          "base_uri": "https://localhost:8080/",
          "height": 293
        },
        "id": "3QM5dqFObl5p",
        "outputId": "b6c2b37c-b2c6-4582-c87a-b8cb4b66e2b8"
      },
      "source": [
        "plt.plot(movies['averageRating'], movies['numVotes'])"
      ],
      "execution_count": null,
      "outputs": [
        {
          "output_type": "execute_result",
          "data": {
            "text/plain": [
              "[<matplotlib.lines.Line2D at 0x7f1d64e67850>]"
            ]
          },
          "metadata": {},
          "execution_count": 27
        },
        {
          "output_type": "display_data",
          "data": {
            "image/png": "[encoded data removed]",
            "text/plain": [
              "<Figure size 432x288 with 1 Axes>"
            ]
          },
          "metadata": {
            "needs_background": "light"
          }
        }
      ]
    },
    {
      "cell_type": "code",
      "metadata": {
        "colab": {
          "base_uri": "https://localhost:8080/"
        },
        "id": "3nVUab8idz1t",
        "outputId": "c9b9fe68-cfd7-42b5-f40f-a837e6f335c5"
      },
      "source": [
        "movies['numVotes'].fillna(value= 0,inplace=True)\n",
        "movies['numVotes'].replace(to_replace = '\\n', value = 0)\n"
      ],
      "execution_count": null,
      "outputs": [
        {
          "output_type": "execute_result",
          "data": {
            "text/plain": [
              "0         1841\n",
              "1          236\n",
              "2         1603\n",
              "3          153\n",
              "4         2422\n",
              "          ... \n",
              "558379      14\n",
              "558380      17\n",
              "558381       6\n",
              "558382      46\n",
              "558383     154\n",
              "Name: numVotes, Length: 558384, dtype: int64"
            ]
          },
          "metadata": {},
          "execution_count": 17
        }
      ]
    },
    {
      "cell_type": "code",
      "metadata": {
        "colab": {
          "base_uri": "https://localhost:8080/",
          "height": 181
        },
        "id": "TR-WyyXMcLDb",
        "outputId": "8332d8e8-c992-4070-d9aa-697905aeaac7"
      },
      "source": [
        "\n",
        "movies.plot.pie(movies['numVotes'])"
      ],
      "execution_count": null,
      "outputs": [
        {
          "output_type": "error",
          "ename": "TypeError",
          "evalue": "ignored",
          "traceback": [
            "\u001b[0;31m---------------------------------------------------------------------------\u001b[0m",
            "\u001b[0;31mTypeError\u001b[0m                                 Traceback (most recent call last)",
            "\u001b[0;32m<ipython-input-20-12869cbb7c4b>\u001b[0m in \u001b[0;36m<module>\u001b[0;34m()\u001b[0m\n\u001b[1;32m      1\u001b[0m \u001b[0;34m\u001b[0m\u001b[0m\n\u001b[0;32m----> 2\u001b[0;31m \u001b[0mmovies\u001b[0m\u001b[0;34m.\u001b[0m\u001b[0mplot\u001b[0m\u001b[0;34m.\u001b[0m\u001b[0mpie\u001b[0m\u001b[0;34m(\u001b[0m\u001b[0mmovies\u001b[0m\u001b[0;34m[\u001b[0m\u001b[0;34m'numVotes'\u001b[0m\u001b[0;34m]\u001b[0m\u001b[0;34m)\u001b[0m\u001b[0;34m\u001b[0m\u001b[0;34m\u001b[0m\u001b[0m\n\u001b[0m",
            "\u001b[0;31mTypeError\u001b[0m: pie() takes 1 positional argument but 2 were given"
          ]
        }
      ]
    },
    {
      "cell_type": "code",
      "metadata": {
        "colab": {
          "base_uri": "https://localhost:8080/"
        },
        "id": "9I6Ybm56djt_",
        "outputId": "3a4f5a95-e0b9-46d3-c762-edf086c215cd"
      },
      "source": [
        "movies['numVotes'].sample(n=50)"
      ],
      "execution_count": null,
      "outputs": [
        {
          "output_type": "execute_result",
          "data": {
            "text/plain": [
              "1004567     690.0\n",
              "107588       34.0\n",
              "1018813       5.0\n",
              "186553       10.0\n",
              "311361      253.0\n",
              "190923     3293.0\n",
              "1186833     187.0\n",
              "885686       68.0\n",
              "289274       39.0\n",
              "152497      738.0\n",
              "49327      1073.0\n",
              "439565       54.0\n",
              "214763     1112.0\n",
              "17248      1205.0\n",
              "68272       203.0\n",
              "1078702      67.0\n",
              "341071       14.0\n",
              "253601       16.0\n",
              "271226      544.0\n",
              "373963       15.0\n",
              "87297       172.0\n",
              "444390       15.0\n",
              "312956       31.0\n",
              "875188       10.0\n",
              "194711       14.0\n",
              "97684        21.0\n",
              "313886       19.0\n",
              "376185      122.0\n",
              "105069      158.0\n",
              "331691       59.0\n",
              "445971       39.0\n",
              "160115      164.0\n",
              "279616       37.0\n",
              "224385       14.0\n",
              "930796      326.0\n",
              "806416       37.0\n",
              "275681       20.0\n",
              "401415       11.0\n",
              "959786        6.0\n",
              "1190129      12.0\n",
              "113393       39.0\n",
              "14004        23.0\n",
              "1075528      26.0\n",
              "477802        7.0\n",
              "22457       140.0\n",
              "351493      130.0\n",
              "44769       187.0\n",
              "138078      402.0\n",
              "110318      130.0\n",
              "102479       98.0\n",
              "Name: numVotes, dtype: float64"
            ]
          },
          "metadata": {},
          "execution_count": 56
        }
      ]
    },
    {
      "cell_type": "code",
      "metadata": {
        "colab": {
          "base_uri": "https://localhost:8080/",
          "height": 164
        },
        "id": "hBHUvXeRgeKC",
        "outputId": "8d0f2fca-050b-420a-b5f8-ff29e8e3e06f"
      },
      "source": [
        "movies.plot.pie(movies['numVotes'])"
      ],
      "execution_count": null,
      "outputs": [
        {
          "output_type": "error",
          "ename": "TypeError",
          "evalue": "ignored",
          "traceback": [
            "\u001b[0;31m---------------------------------------------------------------------------\u001b[0m",
            "\u001b[0;31mTypeError\u001b[0m                                 Traceback (most recent call last)",
            "\u001b[0;32m<ipython-input-17-b63932979cb7>\u001b[0m in \u001b[0;36m<module>\u001b[0;34m()\u001b[0m\n\u001b[0;32m----> 1\u001b[0;31m \u001b[0mmovies\u001b[0m\u001b[0;34m.\u001b[0m\u001b[0mplot\u001b[0m\u001b[0;34m.\u001b[0m\u001b[0mpie\u001b[0m\u001b[0;34m(\u001b[0m\u001b[0mmovies\u001b[0m\u001b[0;34m[\u001b[0m\u001b[0;34m'numVotes'\u001b[0m\u001b[0;34m]\u001b[0m\u001b[0;34m)\u001b[0m\u001b[0;34m\u001b[0m\u001b[0;34m\u001b[0m\u001b[0m\n\u001b[0m",
            "\u001b[0;31mTypeError\u001b[0m: pie() takes 1 positional argument but 2 were given"
          ]
        }
      ]
    },
    {
      "cell_type": "code",
      "metadata": {
        "id": "2QMnqUR_nEW6",
        "colab": {
          "base_uri": "https://localhost:8080/",
          "height": 666
        },
        "outputId": "53c25cdf-3e72-4a7c-a897-98784669d620"
      },
      "source": [
        "\n",
        "languages.head()"
      ],
      "execution_count": 14,
      "outputs": [
        {
          "output_type": "execute_result",
          "data": {
            "text/html": [
              "<div>\n",
              "<style scoped>\n",
              "    .dataframe tbody tr th:only-of-type {\n",
              "        vertical-align: middle;\n",
              "    }\n",
              "\n",
              "    .dataframe tbody tr th {\n",
              "        vertical-align: top;\n",
              "    }\n",
              "\n",
              "    .dataframe thead th {\n",
              "        text-align: right;\n",
              "    }\n",
              "</style>\n",
              "<table border=\"1\" class=\"dataframe\">\n",
              "  <thead>\n",
              "    <tr style=\"text-align: right;\">\n",
              "      <th></th>\n",
              "      <th>tconst</th>\n",
              "      <th>title</th>\n",
              "      <th>original_title</th>\n",
              "      <th>year</th>\n",
              "      <th>date_published</th>\n",
              "      <th>genre</th>\n",
              "      <th>duration</th>\n",
              "      <th>country</th>\n",
              "      <th>language</th>\n",
              "      <th>director</th>\n",
              "      <th>writer</th>\n",
              "      <th>production_company</th>\n",
              "      <th>actors</th>\n",
              "      <th>description</th>\n",
              "      <th>avg_vote</th>\n",
              "      <th>votes</th>\n",
              "      <th>budget</th>\n",
              "      <th>usa_gross_income</th>\n",
              "      <th>worlwide_gross_income</th>\n",
              "      <th>metascore</th>\n",
              "      <th>reviews_from_users</th>\n",
              "      <th>reviews_from_critics</th>\n",
              "    </tr>\n",
              "  </thead>\n",
              "  <tbody>\n",
              "    <tr>\n",
              "      <th>0</th>\n",
              "      <td>tt0000009</td>\n",
              "      <td>Miss Jerry</td>\n",
              "      <td>Miss Jerry</td>\n",
              "      <td>1894</td>\n",
              "      <td>1894-10-09</td>\n",
              "      <td>Romance</td>\n",
              "      <td>45</td>\n",
              "      <td>USA</td>\n",
              "      <td>None</td>\n",
              "      <td>Alexander Black</td>\n",
              "      <td>Alexander Black</td>\n",
              "      <td>Alexander Black Photoplays</td>\n",
              "      <td>Blanche Bayliss, William Courtenay, Chauncey D...</td>\n",
              "      <td>The adventures of a female reporter in the 1890s.</td>\n",
              "      <td>5.9</td>\n",
              "      <td>154</td>\n",
              "      <td>NaN</td>\n",
              "      <td>NaN</td>\n",
              "      <td>NaN</td>\n",
              "      <td>NaN</td>\n",
              "      <td>1.0</td>\n",
              "      <td>2.0</td>\n",
              "    </tr>\n",
              "    <tr>\n",
              "      <th>1</th>\n",
              "      <td>tt0000574</td>\n",
              "      <td>The Story of the Kelly Gang</td>\n",
              "      <td>The Story of the Kelly Gang</td>\n",
              "      <td>1906</td>\n",
              "      <td>1906-12-26</td>\n",
              "      <td>Biography, Crime, Drama</td>\n",
              "      <td>70</td>\n",
              "      <td>Australia</td>\n",
              "      <td>None</td>\n",
              "      <td>Charles Tait</td>\n",
              "      <td>Charles Tait</td>\n",
              "      <td>J. and N. Tait</td>\n",
              "      <td>Elizabeth Tait, John Tait, Norman Campbell, Be...</td>\n",
              "      <td>True story of notorious Australian outlaw Ned ...</td>\n",
              "      <td>6.1</td>\n",
              "      <td>589</td>\n",
              "      <td>$ 2250</td>\n",
              "      <td>NaN</td>\n",
              "      <td>NaN</td>\n",
              "      <td>NaN</td>\n",
              "      <td>7.0</td>\n",
              "      <td>7.0</td>\n",
              "    </tr>\n",
              "    <tr>\n",
              "      <th>2</th>\n",
              "      <td>tt0001892</td>\n",
              "      <td>Den sorte drøm</td>\n",
              "      <td>Den sorte drøm</td>\n",
              "      <td>1911</td>\n",
              "      <td>1911-08-19</td>\n",
              "      <td>Drama</td>\n",
              "      <td>53</td>\n",
              "      <td>Germany, Denmark</td>\n",
              "      <td>NaN</td>\n",
              "      <td>Urban Gad</td>\n",
              "      <td>Urban Gad, Gebhard Schätzler-Perasini</td>\n",
              "      <td>Fotorama</td>\n",
              "      <td>Asta Nielsen, Valdemar Psilander, Gunnar Helse...</td>\n",
              "      <td>Two men of high rank are both wooing the beaut...</td>\n",
              "      <td>5.8</td>\n",
              "      <td>188</td>\n",
              "      <td>NaN</td>\n",
              "      <td>NaN</td>\n",
              "      <td>NaN</td>\n",
              "      <td>NaN</td>\n",
              "      <td>5.0</td>\n",
              "      <td>2.0</td>\n",
              "    </tr>\n",
              "    <tr>\n",
              "      <th>3</th>\n",
              "      <td>tt0002101</td>\n",
              "      <td>Cleopatra</td>\n",
              "      <td>Cleopatra</td>\n",
              "      <td>1912</td>\n",
              "      <td>1912-11-13</td>\n",
              "      <td>Drama, History</td>\n",
              "      <td>100</td>\n",
              "      <td>USA</td>\n",
              "      <td>English</td>\n",
              "      <td>Charles L. Gaskill</td>\n",
              "      <td>Victorien Sardou</td>\n",
              "      <td>Helen Gardner Picture Players</td>\n",
              "      <td>Helen Gardner, Pearl Sindelar, Miss Fielding, ...</td>\n",
              "      <td>The fabled queen of Egypt's affair with Roman ...</td>\n",
              "      <td>5.2</td>\n",
              "      <td>446</td>\n",
              "      <td>$ 45000</td>\n",
              "      <td>NaN</td>\n",
              "      <td>NaN</td>\n",
              "      <td>NaN</td>\n",
              "      <td>25.0</td>\n",
              "      <td>3.0</td>\n",
              "    </tr>\n",
              "    <tr>\n",
              "      <th>4</th>\n",
              "      <td>tt0002130</td>\n",
              "      <td>L'Inferno</td>\n",
              "      <td>L'Inferno</td>\n",
              "      <td>1911</td>\n",
              "      <td>1911-03-06</td>\n",
              "      <td>Adventure, Drama, Fantasy</td>\n",
              "      <td>68</td>\n",
              "      <td>Italy</td>\n",
              "      <td>Italian</td>\n",
              "      <td>Francesco Bertolini, Adolfo Padovan</td>\n",
              "      <td>Dante Alighieri</td>\n",
              "      <td>Milano Film</td>\n",
              "      <td>Salvatore Papa, Arturo Pirovano, Giuseppe de L...</td>\n",
              "      <td>Loosely adapted from Dante's Divine Comedy and...</td>\n",
              "      <td>7.0</td>\n",
              "      <td>2237</td>\n",
              "      <td>NaN</td>\n",
              "      <td>NaN</td>\n",
              "      <td>NaN</td>\n",
              "      <td>NaN</td>\n",
              "      <td>31.0</td>\n",
              "      <td>14.0</td>\n",
              "    </tr>\n",
              "  </tbody>\n",
              "</table>\n",
              "</div>"
            ],
            "text/plain": [
              "      tconst  ... reviews_from_critics\n",
              "0  tt0000009  ...                  2.0\n",
              "1  tt0000574  ...                  7.0\n",
              "2  tt0001892  ...                  2.0\n",
              "3  tt0002101  ...                  3.0\n",
              "4  tt0002130  ...                 14.0\n",
              "\n",
              "[5 rows x 22 columns]"
            ]
          },
          "metadata": {},
          "execution_count": 14
        }
      ]
    },
    {
      "cell_type": "code",
      "metadata": {
        "colab": {
          "base_uri": "https://localhost:8080/"
        },
        "id": "W1_QI0BnHr2k",
        "outputId": "642ffc84-5f6c-4707-ebdc-d9dba434a475"
      },
      "source": [
        "movies['language'].value_counts()"
      ],
      "execution_count": 17,
      "outputs": [
        {
          "output_type": "execute_result",
          "data": {
            "text/plain": [
              "English                                            35929\n",
              "French                                              3902\n",
              "Spanish                                             2831\n",
              "Japanese                                            2826\n",
              "Italian                                             2731\n",
              "                                                   ...  \n",
              "French, Hungarian, Italian, Swiss German, Latin        1\n",
              "Bosnian, Serbian, Croatian                             1\n",
              "French, German, English, Flemish, Japanese             1\n",
              "Catalan, English, Spanish                              1\n",
              "Spanish, Danish, French                                1\n",
              "Name: language, Length: 4377, dtype: int64"
            ]
          },
          "metadata": {},
          "execution_count": 17
        }
      ]
    },
    {
      "cell_type": "code",
      "metadata": {
        "colab": {
          "base_uri": "https://localhost:8080/"
        },
        "id": "FbwA5Gf3LkQp",
        "outputId": "73af8496-8426-4ba6-df9f-5e859e6642c8"
      },
      "source": [
        "movies[movies['language']==( \"French, Hungarian, Italian, Swiss German, Latin\")]['originalTitle']"
      ],
      "execution_count": 18,
      "outputs": [
        {
          "output_type": "execute_result",
          "data": {
            "text/plain": [
              "30961    Rien ne va plus\n",
              "Name: originalTitle, dtype: object"
            ]
          },
          "metadata": {},
          "execution_count": 18
        }
      ]
    }
  ]
}