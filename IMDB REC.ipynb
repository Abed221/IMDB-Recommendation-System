{
  "nbformat": 4,
  "nbformat_minor": 0,
  "metadata": {
    "colab": {
      "name": "rammed.ipynb",
      "provenance": [],
      "collapsed_sections": [],
      "machine_shape": "hm"
    },
    "kernelspec": {
      "name": "python3",
      "display_name": "Python 3"
    },
    "accelerator": "TPU"
  },
  "cells": [
    {
      "cell_type": "markdown",
      "metadata": {
        "id": "4cbgwZWWfWpp"
      },
      "source": [
        "# Imports"
      ]
    },
    {
      "cell_type": "code",
      "metadata": {
        "id": "n1_K400MEnnQ"
      },
      "source": [
        "import pandas as pd\n",
        "import matplotlib.pyplot as plt\n",
        "import numpy as np\n",
        "%matplotlib inline"
      ],
      "execution_count": 2,
      "outputs": []
    },
    {
      "cell_type": "markdown",
      "metadata": {
        "id": "N_n7iWRrfPRY"
      },
      "source": [
        "We didn't need the actor name dataset because we can use the nconst as a reference number through the principal and basics datasets and match these with each other"
      ]
    },
    {
      "cell_type": "code",
      "metadata": {
        "colab": {
          "base_uri": "https://localhost:8080/"
        },
        "id": "aMfk93owHh5G",
        "outputId": "b4e97d39-2ced-475a-bff9-575af5411aa8"
      },
      "source": [
        "!wget 'https://datasets.imdbws.com/title.basics.tsv.gz'\n",
        "!wget 'https://datasets.imdbws.com/title.akas.tsv.gz'\n",
        "!wget 'https://datasets.imdbws.com/title.crew.tsv.gz'"
      ],
      "execution_count": 2,
      "outputs": [
        {
          "output_type": "stream",
          "name": "stdout",
          "text": [
            "--2021-12-05 19:19:28--  https://datasets.imdbws.com/title.basics.tsv.gz\n",
            "Resolving datasets.imdbws.com (datasets.imdbws.com)... 52.85.79.70, 52.85.79.118, 52.85.79.112, ...\n",
            "Connecting to datasets.imdbws.com (datasets.imdbws.com)|52.85.79.70|:443... connected.\n",
            "HTTP request sent, awaiting response... 200 OK\n",
            "Length: 148494068 (142M) [binary/octet-stream]\n",
            "Saving to: ‘title.basics.tsv.gz’\n",
            "\n",
            "title.basics.tsv.gz 100%[===================>] 141.61M  37.5MB/s    in 3.7s    \n",
            "\n",
            "2021-12-05 19:19:31 (38.1 MB/s) - ‘title.basics.tsv.gz’ saved [148494068/148494068]\n",
            "\n",
            "--2021-12-05 19:19:31--  https://datasets.imdbws.com/title.akas.tsv.gz\n",
            "Resolving datasets.imdbws.com (datasets.imdbws.com)... 52.85.79.70, 52.85.79.118, 52.85.79.112, ...\n",
            "Connecting to datasets.imdbws.com (datasets.imdbws.com)|52.85.79.70|:443... connected.\n",
            "HTTP request sent, awaiting response... 200 OK\n",
            "Length: 255248487 (243M) [binary/octet-stream]\n",
            "Saving to: ‘title.akas.tsv.gz’\n",
            "\n",
            "title.akas.tsv.gz   100%[===================>] 243.42M  83.1MB/s    in 2.9s    \n",
            "\n",
            "2021-12-05 19:19:34 (83.1 MB/s) - ‘title.akas.tsv.gz’ saved [255248487/255248487]\n",
            "\n",
            "--2021-12-05 19:19:35--  https://datasets.imdbws.com/title.crew.tsv.gz\n",
            "Resolving datasets.imdbws.com (datasets.imdbws.com)... 52.85.79.70, 52.85.79.86, 52.85.79.112, ...\n",
            "Connecting to datasets.imdbws.com (datasets.imdbws.com)|52.85.79.70|:443... connected.\n",
            "HTTP request sent, awaiting response... 200 OK\n",
            "Length: 57906866 (55M) [binary/octet-stream]\n",
            "Saving to: ‘title.crew.tsv.gz’\n",
            "\n",
            "title.crew.tsv.gz   100%[===================>]  55.22M  53.7MB/s    in 1.0s    \n",
            "\n",
            "2021-12-05 19:19:36 (53.7 MB/s) - ‘title.crew.tsv.gz’ saved [57906866/57906866]\n",
            "\n"
          ]
        }
      ]
    },
    {
      "cell_type": "code",
      "metadata": {
        "id": "A1kA6l7GXRTF"
      },
      "source": [
        "!gunzip /content/title.basics.tsv.gz\n",
        "!gunzip /content/title.akas.tsv.gz\n",
        "!gunzip /content/title.crew.tsv.gz"
      ],
      "execution_count": 3,
      "outputs": []
    },
    {
      "cell_type": "code",
      "metadata": {
        "id": "HVd7LJH-fsFR",
        "colab": {
          "base_uri": "https://localhost:8080/"
        },
        "outputId": "5c4ed81a-d20c-405f-9117-22215018ea82"
      },
      "source": [
        "akas = pd.read_csv('title.akas.tsv', sep='\\t')\n",
        "principals = pd.read_csv('title.crew.tsv', sep='\\t')\n",
        "movies = pd.read_csv('title.basics.tsv', sep='\\t')"
      ],
      "execution_count": 20,
      "outputs": [
        {
          "output_type": "stream",
          "name": "stderr",
          "text": [
            "/usr/local/lib/python3.7/dist-packages/IPython/core/interactiveshell.py:2718: DtypeWarning: Columns (7) have mixed types.Specify dtype option on import or set low_memory=False.\n",
            "  interactivity=interactivity, compiler=compiler, result=result)\n",
            "/usr/local/lib/python3.7/dist-packages/IPython/core/interactiveshell.py:2718: DtypeWarning: Columns (4,5) have mixed types.Specify dtype option on import or set low_memory=False.\n",
            "  interactivity=interactivity, compiler=compiler, result=result)\n"
          ]
        }
      ]
    },
    {
      "cell_type": "code",
      "metadata": {
        "colab": {
          "base_uri": "https://localhost:8080/"
        },
        "id": "8db14oSbZi-J",
        "outputId": "4d003abc-8032-4b63-8901-44be96c47065"
      },
      "source": [
        "!wget 'https://datasets.imdbws.com/title.ratings.tsv.gz'\n",
        "!gunzip /content/title.ratings.tsv.gz"
      ],
      "execution_count": 134,
      "outputs": [
        {
          "output_type": "stream",
          "name": "stdout",
          "text": [
            "--2021-12-05 21:00:59--  https://datasets.imdbws.com/title.ratings.tsv.gz\n",
            "Resolving datasets.imdbws.com (datasets.imdbws.com)... 52.85.79.118, 52.85.79.112, 52.85.79.70, ...\n",
            "Connecting to datasets.imdbws.com (datasets.imdbws.com)|52.85.79.118|:443... connected.\n",
            "HTTP request sent, awaiting response... 200 OK\n",
            "Length: 5944352 (5.7M) [binary/octet-stream]\n",
            "Saving to: ‘title.ratings.tsv.gz.2’\n",
            "\n",
            "title.ratings.tsv.g 100%[===================>]   5.67M  24.4MB/s    in 0.2s    \n",
            "\n",
            "2021-12-05 21:01:00 (24.4 MB/s) - ‘title.ratings.tsv.gz.2’ saved [5944352/5944352]\n",
            "\n"
          ]
        }
      ]
    },
    {
      "cell_type": "code",
      "metadata": {
        "id": "uty7GjOX1UYv"
      },
      "source": [
        "#Ratings\n",
        "\n",
        "ratings = pd.read_csv('title.ratings.tsv', sep='\\t')\n",
        "df4 = ratings[['averageRating', 'numVotes']]\n",
        "movies = movies.join(df4)"
      ],
      "execution_count": 24,
      "outputs": []
    },
    {
      "cell_type": "code",
      "metadata": {
        "id": "81_qPhrconKf"
      },
      "source": [
        "del movies"
      ],
      "execution_count": 19,
      "outputs": []
    },
    {
      "cell_type": "code",
      "metadata": {
        "id": "DGRjkLJYi4LO"
      },
      "source": [
        "\n",
        "df2 = principals['directors']\n",
        "\n",
        "movies = movies.join(df2)"
      ],
      "execution_count": 25,
      "outputs": []
    },
    {
      "cell_type": "code",
      "metadata": {
        "colab": {
          "base_uri": "https://localhost:8080/"
        },
        "id": "w3WzOrxTuEGx",
        "outputId": "581d3095-2b95-48ef-886b-79ca903400f4"
      },
      "source": [
        "akas[akas['types']=='original']['language'].value_counts()"
      ],
      "execution_count": 8,
      "outputs": [
        {
          "output_type": "execute_result",
          "data": {
            "text/plain": [
              "\\N     1815056\n",
              "en           5\n",
              "ja           1\n",
              "da           1\n",
              "yue          1\n",
              "cmn          1\n",
              "ca           1\n",
              "Name: language, dtype: int64"
            ]
          },
          "metadata": {},
          "execution_count": 8
        }
      ]
    },
    {
      "cell_type": "code",
      "metadata": {
        "id": "eWyNKaf0IXcV",
        "colab": {
          "base_uri": "https://localhost:8080/"
        },
        "outputId": "6d1c2485-8c88-414e-a3f4-61d605f192bc"
      },
      "source": [
        "#movies dataset setup\n",
        "movies.drop('primaryTitle', axis=1, inplace=True)\n",
        "movies = movies[movies['titleType'] != 'tvPilot']\n",
        "movies = movies[movies['titleType'] != 'videoGame']\n",
        "movies = movies[movies['titleType'] != 'tvShort']\n",
        "movies = movies[movies['titleType'] != 'video']\n",
        "movies = movies[movies['titleType'] != 'tvEpisode']\n",
        "movies = movies[movies['titleType'] != 'Short']\n",
        "\n",
        "movies['genres'].value_counts()"
      ],
      "execution_count": 26,
      "outputs": [
        {
          "output_type": "execute_result",
          "data": {
            "text/plain": [
              "Drama,Short                    159549\n",
              "Drama                          157893\n",
              "Documentary                    146593\n",
              "Short                          141418\n",
              "Comedy,Short                   111088\n",
              "                                ...  \n",
              "Adventure,Sport,Thriller            1\n",
              "Action,Biography,Mystery            1\n",
              "Adult,Adventure,Mystery             1\n",
              "Fantasy,Reality-TV,Romance          1\n",
              "Documentary,Game-Show,Music         1\n",
              "Name: genres, Length: 2235, dtype: int64"
            ]
          },
          "metadata": {},
          "execution_count": 26
        }
      ]
    },
    {
      "cell_type": "code",
      "metadata": {
        "id": "blTHSiY0jYWE"
      },
      "source": [
        "movies = movies[movies['averageRating'] >= 2.0]\n",
        "movies = movies[movies['numVotes'] >= 20.0]"
      ],
      "execution_count": 57,
      "outputs": []
    },
    {
      "cell_type": "code",
      "metadata": {
        "id": "saK7UNguoX3_"
      },
      "source": [
        "\n",
        "movies['startYear'].replace(to_replace = r\"\\N\", value= 2000, inplace=True)\n",
        "movies['startYear'] = pd.to_numeric(movies['startYear'])\n",
        "movies = movies[movies['startYear'] < 2022]"
      ],
      "execution_count": 27,
      "outputs": []
    },
    {
      "cell_type": "code",
      "metadata": {
        "id": "pf_inyGIKiTY"
      },
      "source": [
        "new = movies[\"genres\"].str.split(\",\", n=2 ,expand = True)\n",
        "  \n",
        "# making separate first name column from new data frame\n",
        "movies[\"genre1\"]= new[0]\n",
        "movies[\"genre2\"]= new[1]\n",
        "movies[\"genre3\"]= new[2]\n",
        "  \n",
        "# Dropping old Name columns\n",
        "movies.drop(columns =[\"genres\"], inplace = True)"
      ],
      "execution_count": 28,
      "outputs": []
    },
    {
      "cell_type": "code",
      "metadata": {
        "colab": {
          "base_uri": "https://localhost:8080/",
          "height": 258
        },
        "id": "S9K4pU1zLalx",
        "outputId": "926dcbfa-5b7a-48ca-c4d8-650a0b78ad4a"
      },
      "source": [
        "movies.head()"
      ],
      "execution_count": 29,
      "outputs": [
        {
          "output_type": "execute_result",
          "data": {
            "text/html": [
              "<div>\n",
              "<style scoped>\n",
              "    .dataframe tbody tr th:only-of-type {\n",
              "        vertical-align: middle;\n",
              "    }\n",
              "\n",
              "    .dataframe tbody tr th {\n",
              "        vertical-align: top;\n",
              "    }\n",
              "\n",
              "    .dataframe thead th {\n",
              "        text-align: right;\n",
              "    }\n",
              "</style>\n",
              "<table border=\"1\" class=\"dataframe\">\n",
              "  <thead>\n",
              "    <tr style=\"text-align: right;\">\n",
              "      <th></th>\n",
              "      <th>tconst</th>\n",
              "      <th>titleType</th>\n",
              "      <th>originalTitle</th>\n",
              "      <th>isAdult</th>\n",
              "      <th>startYear</th>\n",
              "      <th>endYear</th>\n",
              "      <th>runtimeMinutes</th>\n",
              "      <th>averageRating</th>\n",
              "      <th>numVotes</th>\n",
              "      <th>directors</th>\n",
              "      <th>genre1</th>\n",
              "      <th>genre2</th>\n",
              "      <th>genre3</th>\n",
              "    </tr>\n",
              "  </thead>\n",
              "  <tbody>\n",
              "    <tr>\n",
              "      <th>0</th>\n",
              "      <td>tt0000001</td>\n",
              "      <td>short</td>\n",
              "      <td>Carmencita</td>\n",
              "      <td>0</td>\n",
              "      <td>1894</td>\n",
              "      <td>\\N</td>\n",
              "      <td>1</td>\n",
              "      <td>5.7</td>\n",
              "      <td>1841.0</td>\n",
              "      <td>nm0005690</td>\n",
              "      <td>Documentary</td>\n",
              "      <td>Short</td>\n",
              "      <td>None</td>\n",
              "    </tr>\n",
              "    <tr>\n",
              "      <th>1</th>\n",
              "      <td>tt0000002</td>\n",
              "      <td>short</td>\n",
              "      <td>Le clown et ses chiens</td>\n",
              "      <td>0</td>\n",
              "      <td>1892</td>\n",
              "      <td>\\N</td>\n",
              "      <td>5</td>\n",
              "      <td>6.0</td>\n",
              "      <td>236.0</td>\n",
              "      <td>nm0721526</td>\n",
              "      <td>Animation</td>\n",
              "      <td>Short</td>\n",
              "      <td>None</td>\n",
              "    </tr>\n",
              "    <tr>\n",
              "      <th>2</th>\n",
              "      <td>tt0000003</td>\n",
              "      <td>short</td>\n",
              "      <td>Pauvre Pierrot</td>\n",
              "      <td>0</td>\n",
              "      <td>1892</td>\n",
              "      <td>\\N</td>\n",
              "      <td>4</td>\n",
              "      <td>6.5</td>\n",
              "      <td>1603.0</td>\n",
              "      <td>nm0721526</td>\n",
              "      <td>Animation</td>\n",
              "      <td>Comedy</td>\n",
              "      <td>Romance</td>\n",
              "    </tr>\n",
              "    <tr>\n",
              "      <th>3</th>\n",
              "      <td>tt0000004</td>\n",
              "      <td>short</td>\n",
              "      <td>Un bon bock</td>\n",
              "      <td>0</td>\n",
              "      <td>1892</td>\n",
              "      <td>\\N</td>\n",
              "      <td>12</td>\n",
              "      <td>6.0</td>\n",
              "      <td>153.0</td>\n",
              "      <td>nm0721526</td>\n",
              "      <td>Animation</td>\n",
              "      <td>Short</td>\n",
              "      <td>None</td>\n",
              "    </tr>\n",
              "    <tr>\n",
              "      <th>4</th>\n",
              "      <td>tt0000005</td>\n",
              "      <td>short</td>\n",
              "      <td>Blacksmith Scene</td>\n",
              "      <td>0</td>\n",
              "      <td>1893</td>\n",
              "      <td>\\N</td>\n",
              "      <td>1</td>\n",
              "      <td>6.2</td>\n",
              "      <td>2422.0</td>\n",
              "      <td>nm0005690</td>\n",
              "      <td>Comedy</td>\n",
              "      <td>Short</td>\n",
              "      <td>None</td>\n",
              "    </tr>\n",
              "  </tbody>\n",
              "</table>\n",
              "</div>"
            ],
            "text/plain": [
              "      tconst titleType           originalTitle  ...       genre1  genre2   genre3\n",
              "0  tt0000001     short              Carmencita  ...  Documentary   Short     None\n",
              "1  tt0000002     short  Le clown et ses chiens  ...    Animation   Short     None\n",
              "2  tt0000003     short          Pauvre Pierrot  ...    Animation  Comedy  Romance\n",
              "3  tt0000004     short             Un bon bock  ...    Animation   Short     None\n",
              "4  tt0000005     short        Blacksmith Scene  ...       Comedy   Short     None\n",
              "\n",
              "[5 rows x 13 columns]"
            ]
          },
          "metadata": {},
          "execution_count": 29
        }
      ]
    },
    {
      "cell_type": "markdown",
      "metadata": {
        "id": "Qf_Q9ieqWR8Q"
      },
      "source": [
        "#Movie name input"
      ]
    },
    {
      "cell_type": "code",
      "metadata": {
        "colab": {
          "base_uri": "https://localhost:8080/"
        },
        "id": "7pZToBrzRRpc",
        "outputId": "48e0f293-0cfe-4c89-f626-f22365dc3178"
      },
      "source": [
        "#base title\n",
        "title = input()\n",
        "\n",
        "#Year of production\n",
        "year = input()\n",
        "year = int(year)\n",
        "\n",
        "#ٍSepcify Title Type\n",
        "titletype = movies[(movies['originalTitle']==title) & (movies['startYear']==year)]['titleType'].iloc[0]\n",
        "#finding movie genre\n",
        "genre = movies[(movies['originalTitle'] == title) & (movies['startYear']==year)]['genre1'].iloc[0]\n",
        "\n",
        "#finding directors\n",
        "director = movies[(movies['originalTitle'] == title)& (movies['startYear']==year)]['directors'].iloc[0]\n",
        "\n"
      ],
      "execution_count": 42,
      "outputs": [
        {
          "name": "stdout",
          "output_type": "stream",
          "text": [
            "The Irishman\n",
            "2019\n"
          ]
        }
      ]
    },
    {
      "cell_type": "code",
      "metadata": {
        "colab": {
          "base_uri": "https://localhost:8080/"
        },
        "id": "imMCm5nck-vt",
        "outputId": "5ce09658-626e-4aab-d649-fad79cd30d5e"
      },
      "source": [
        "print(genre)\n",
        "print(director)\n",
        "print(year)\n",
        "print(titletype)"
      ],
      "execution_count": 43,
      "outputs": [
        {
          "output_type": "stream",
          "name": "stdout",
          "text": [
            "Biography\n",
            "nm0000217\n",
            "2019\n",
            "movie\n"
          ]
        }
      ]
    },
    {
      "cell_type": "code",
      "metadata": {
        "colab": {
          "base_uri": "https://localhost:8080/"
        },
        "id": "jEoIH_rC5pVe",
        "outputId": "5c51a727-c109-4952-b8ae-168b6c539bd5"
      },
      "source": [
        "#output 1 (genre)\n",
        "result = movies[(movies['genre1'] == genre) & (movies['titleType']==titletype)]['originalTitle'].sample().iloc[0]\n",
        "result2=0\n",
        "#output 2 (genre + director)\n",
        "if ((movies[(movies['directors'].str.contains(director, case=False)) & (movies['genre1']==genre) & (movies['titleType']==titletype)]['originalTitle'])).empty == False:\n",
        "  result2 = movies.loc[(movies['directors']==director) & ((movies['genre1']==genre) | (movies['genre2']==genre) | (movies['genre3']==genre)) & (movies['titleType']==titletype)]['originalTitle'].sample().iloc[0]\n",
        "\n",
        "#output 3 (genre + year)\n",
        "res3 = movies[movies['startYear'].between(year-20, year+20)]\n",
        "result3 = res3[(((res3['genre1'].str.contains(genre, case=False)) | (movies['genre2'].str.contains(genre, case=False)) | (movies['genre3'].str.contains(genre, case=False)))) & (movies['titleType']==titletype)]['originalTitle'].sample().iloc[0]\n"
      ],
      "execution_count": 52,
      "outputs": [
        {
          "output_type": "stream",
          "name": "stderr",
          "text": [
            "/usr/local/lib/python3.7/dist-packages/ipykernel_launcher.py:10: UserWarning: Boolean Series key will be reindexed to match DataFrame index.\n",
            "  # Remove the CWD from sys.path while we load stuff.\n"
          ]
        }
      ]
    },
    {
      "cell_type": "markdown",
      "metadata": {
        "id": "PKln0bw8v46X"
      },
      "source": [
        "#Output Cell"
      ]
    },
    {
      "cell_type": "code",
      "metadata": {
        "colab": {
          "base_uri": "https://localhost:8080/"
        },
        "id": "no5s-oBFv6dU",
        "outputId": "e4387ce3-ba79-438c-ad30-881b115b2e82"
      },
      "source": [
        "\n",
        "print(result)\n",
        "print(result2)\n",
        "print(result3)"
      ],
      "execution_count": 53,
      "outputs": [
        {
          "output_type": "stream",
          "name": "stdout",
          "text": [
            "Zorn\n",
            "Shine a Light\n",
            "...But I Was a Girl: The Story of Frieda Belinfante\n"
          ]
        }
      ]
    },
    {
      "cell_type": "markdown",
      "metadata": {
        "id": "o8sExX9_7mP0"
      },
      "source": [
        "#ٌReverse engineering"
      ]
    },
    {
      "cell_type": "code",
      "metadata": {
        "colab": {
          "base_uri": "https://localhost:8080/"
        },
        "id": "os8hAYz2Ybg_",
        "outputId": "70a19779-1e1f-4d56-9bc6-60b02c618972"
      },
      "source": [
        "movies[movies['originalTitle']==\"The Sopranos\"]['numVotes']"
      ],
      "execution_count": 30,
      "outputs": [
        {
          "output_type": "execute_result",
          "data": {
            "text/plain": [
              "137665    221.0\n",
              "Name: numVotes, dtype: float64"
            ]
          },
          "metadata": {},
          "execution_count": 30
        }
      ]
    },
    {
      "cell_type": "code",
      "metadata": {
        "colab": {
          "base_uri": "https://localhost:8080/",
          "height": 69
        },
        "id": "pZpxXmGFuPI2",
        "outputId": "c8ccd12d-30a2-4dd5-af92-c1e6089b23f9"
      },
      "source": [
        "movies[movies['numVotes']== 0]"
      ],
      "execution_count": 10,
      "outputs": [
        {
          "output_type": "execute_result",
          "data": {
            "text/html": [
              "<div>\n",
              "<style scoped>\n",
              "    .dataframe tbody tr th:only-of-type {\n",
              "        vertical-align: middle;\n",
              "    }\n",
              "\n",
              "    .dataframe tbody tr th {\n",
              "        vertical-align: top;\n",
              "    }\n",
              "\n",
              "    .dataframe thead th {\n",
              "        text-align: right;\n",
              "    }\n",
              "</style>\n",
              "<table border=\"1\" class=\"dataframe\">\n",
              "  <thead>\n",
              "    <tr style=\"text-align: right;\">\n",
              "      <th></th>\n",
              "      <th>tconst</th>\n",
              "      <th>titleType</th>\n",
              "      <th>originalTitle</th>\n",
              "      <th>isAdult</th>\n",
              "      <th>startYear</th>\n",
              "      <th>endYear</th>\n",
              "      <th>runtimeMinutes</th>\n",
              "      <th>averageRating</th>\n",
              "      <th>numVotes</th>\n",
              "      <th>directors</th>\n",
              "      <th>genre1</th>\n",
              "      <th>genre2</th>\n",
              "      <th>genre3</th>\n",
              "    </tr>\n",
              "  </thead>\n",
              "  <tbody>\n",
              "  </tbody>\n",
              "</table>\n",
              "</div>"
            ],
            "text/plain": [
              "Empty DataFrame\n",
              "Columns: [tconst, titleType, originalTitle, isAdult, startYear, endYear, runtimeMinutes, averageRating, numVotes, directors, genre1, genre2, genre3]\n",
              "Index: []"
            ]
          },
          "metadata": {},
          "execution_count": 10
        }
      ]
    },
    {
      "cell_type": "code",
      "metadata": {
        "colab": {
          "base_uri": "https://localhost:8080/",
          "height": 164
        },
        "id": "KOcx4V4HstUq",
        "outputId": "a697c8c7-90f9-4587-8a12-f13a92645aa7"
      },
      "source": [
        "movies.head()"
      ],
      "execution_count": 170,
      "outputs": [
        {
          "output_type": "error",
          "ename": "AttributeError",
          "evalue": "ignored",
          "traceback": [
            "\u001b[0;31m---------------------------------------------------------------------------\u001b[0m",
            "\u001b[0;31mAttributeError\u001b[0m                            Traceback (most recent call last)",
            "\u001b[0;32m<ipython-input-170-99354095a75d>\u001b[0m in \u001b[0;36m<module>\u001b[0;34m()\u001b[0m\n\u001b[0;32m----> 1\u001b[0;31m \u001b[0mmovies\u001b[0m\u001b[0;34m.\u001b[0m\u001b[0mhead\u001b[0m\u001b[0;34m(\u001b[0m\u001b[0;34m)\u001b[0m\u001b[0;34m\u001b[0m\u001b[0;34m\u001b[0m\u001b[0m\n\u001b[0m",
            "\u001b[0;31mAttributeError\u001b[0m: 'NoneType' object has no attribute 'head'"
          ]
        }
      ]
    },
    {
      "cell_type": "code",
      "metadata": {
        "colab": {
          "base_uri": "https://localhost:8080/"
        },
        "id": "4E27tm51Zqu2",
        "outputId": "75766a20-010b-44bb-d81c-c08e965d5c3b"
      },
      "source": [
        "movies['numVotes'].isna().value_counts()"
      ],
      "execution_count": 13,
      "outputs": [
        {
          "output_type": "execute_result",
          "data": {
            "text/plain": [
              "True     1357532\n",
              "False     499935\n",
              "Name: numVotes, dtype: int64"
            ]
          },
          "metadata": {},
          "execution_count": 13
        }
      ]
    },
    {
      "cell_type": "code",
      "metadata": {
        "id": "v5H9PnRqZ65Q"
      },
      "source": [
        "movies['nu'].dropna(inplace=True)"
      ],
      "execution_count": 151,
      "outputs": []
    },
    {
      "cell_type": "code",
      "metadata": {
        "colab": {
          "base_uri": "https://localhost:8080/",
          "height": 299
        },
        "id": "3QM5dqFObl5p",
        "outputId": "0f08bc34-9096-49f2-d6da-1245812ad8ff"
      },
      "source": [
        "\n",
        "movies['numVotes'].plot.density()"
      ],
      "execution_count": 58,
      "outputs": [
        {
          "output_type": "execute_result",
          "data": {
            "text/plain": [
              "<matplotlib.axes._subplots.AxesSubplot at 0x7fbd09baefd0>"
            ]
          },
          "metadata": {},
          "execution_count": 58
        },
        {
          "output_type": "display_data",
          "data": {
            "image/png": "[encoded data removed]",
            "text/plain": [
              "<Figure size 432x288 with 1 Axes>"
            ]
          },
          "metadata": {
            "needs_background": "light"
          }
        }
      ]
    },
    {
      "cell_type": "code",
      "metadata": {
        "colab": {
          "base_uri": "https://localhost:8080/"
        },
        "id": "3nVUab8idz1t",
        "outputId": "044e8eaa-943f-4939-a1f2-86d8730c9232"
      },
      "source": [
        "movies['numVotes'].fillna(value= 0,inplace=True)\n",
        "movies['numVotes'].replace(to_replace = '\\n', value = 0)\n"
      ],
      "execution_count": 14,
      "outputs": [
        {
          "output_type": "execute_result",
          "data": {
            "text/plain": [
              "0          1841.0\n",
              "1           236.0\n",
              "2          1603.0\n",
              "3           153.0\n",
              "4          2422.0\n",
              "            ...  \n",
              "8468587       0.0\n",
              "8468597       0.0\n",
              "8468598       0.0\n",
              "8468602       0.0\n",
              "8468645       0.0\n",
              "Name: numVotes, Length: 1857467, dtype: float64"
            ]
          },
          "metadata": {},
          "execution_count": 14
        }
      ]
    },
    {
      "cell_type": "code",
      "metadata": {
        "colab": {
          "base_uri": "https://localhost:8080/",
          "height": 181
        },
        "id": "TR-WyyXMcLDb",
        "outputId": "8332d8e8-c992-4070-d9aa-697905aeaac7"
      },
      "source": [
        "\n",
        "movies.plot.pie(movies['numVotes'])"
      ],
      "execution_count": 20,
      "outputs": [
        {
          "output_type": "error",
          "ename": "TypeError",
          "evalue": "ignored",
          "traceback": [
            "\u001b[0;31m---------------------------------------------------------------------------\u001b[0m",
            "\u001b[0;31mTypeError\u001b[0m                                 Traceback (most recent call last)",
            "\u001b[0;32m<ipython-input-20-12869cbb7c4b>\u001b[0m in \u001b[0;36m<module>\u001b[0;34m()\u001b[0m\n\u001b[1;32m      1\u001b[0m \u001b[0;34m\u001b[0m\u001b[0m\n\u001b[0;32m----> 2\u001b[0;31m \u001b[0mmovies\u001b[0m\u001b[0;34m.\u001b[0m\u001b[0mplot\u001b[0m\u001b[0;34m.\u001b[0m\u001b[0mpie\u001b[0m\u001b[0;34m(\u001b[0m\u001b[0mmovies\u001b[0m\u001b[0;34m[\u001b[0m\u001b[0;34m'numVotes'\u001b[0m\u001b[0;34m]\u001b[0m\u001b[0;34m)\u001b[0m\u001b[0;34m\u001b[0m\u001b[0;34m\u001b[0m\u001b[0m\n\u001b[0m",
            "\u001b[0;31mTypeError\u001b[0m: pie() takes 1 positional argument but 2 were given"
          ]
        }
      ]
    },
    {
      "cell_type": "code",
      "metadata": {
        "colab": {
          "base_uri": "https://localhost:8080/"
        },
        "id": "9I6Ybm56djt_",
        "outputId": "3a4f5a95-e0b9-46d3-c762-edf086c215cd"
      },
      "source": [
        "movies['numVotes'].sample(n=50)"
      ],
      "execution_count": 56,
      "outputs": [
        {
          "output_type": "execute_result",
          "data": {
            "text/plain": [
              "1004567     690.0\n",
              "107588       34.0\n",
              "1018813       5.0\n",
              "186553       10.0\n",
              "311361      253.0\n",
              "190923     3293.0\n",
              "1186833     187.0\n",
              "885686       68.0\n",
              "289274       39.0\n",
              "152497      738.0\n",
              "49327      1073.0\n",
              "439565       54.0\n",
              "214763     1112.0\n",
              "17248      1205.0\n",
              "68272       203.0\n",
              "1078702      67.0\n",
              "341071       14.0\n",
              "253601       16.0\n",
              "271226      544.0\n",
              "373963       15.0\n",
              "87297       172.0\n",
              "444390       15.0\n",
              "312956       31.0\n",
              "875188       10.0\n",
              "194711       14.0\n",
              "97684        21.0\n",
              "313886       19.0\n",
              "376185      122.0\n",
              "105069      158.0\n",
              "331691       59.0\n",
              "445971       39.0\n",
              "160115      164.0\n",
              "279616       37.0\n",
              "224385       14.0\n",
              "930796      326.0\n",
              "806416       37.0\n",
              "275681       20.0\n",
              "401415       11.0\n",
              "959786        6.0\n",
              "1190129      12.0\n",
              "113393       39.0\n",
              "14004        23.0\n",
              "1075528      26.0\n",
              "477802        7.0\n",
              "22457       140.0\n",
              "351493      130.0\n",
              "44769       187.0\n",
              "138078      402.0\n",
              "110318      130.0\n",
              "102479       98.0\n",
              "Name: numVotes, dtype: float64"
            ]
          },
          "metadata": {},
          "execution_count": 56
        }
      ]
    },
    {
      "cell_type": "code",
      "metadata": {
        "colab": {
          "base_uri": "https://localhost:8080/",
          "height": 164
        },
        "id": "hBHUvXeRgeKC",
        "outputId": "8d0f2fca-050b-420a-b5f8-ff29e8e3e06f"
      },
      "source": [
        "movies.plot.pie(movies['numVotes'])"
      ],
      "execution_count": 17,
      "outputs": [
        {
          "output_type": "error",
          "ename": "TypeError",
          "evalue": "ignored",
          "traceback": [
            "\u001b[0;31m---------------------------------------------------------------------------\u001b[0m",
            "\u001b[0;31mTypeError\u001b[0m                                 Traceback (most recent call last)",
            "\u001b[0;32m<ipython-input-17-b63932979cb7>\u001b[0m in \u001b[0;36m<module>\u001b[0;34m()\u001b[0m\n\u001b[0;32m----> 1\u001b[0;31m \u001b[0mmovies\u001b[0m\u001b[0;34m.\u001b[0m\u001b[0mplot\u001b[0m\u001b[0;34m.\u001b[0m\u001b[0mpie\u001b[0m\u001b[0;34m(\u001b[0m\u001b[0mmovies\u001b[0m\u001b[0;34m[\u001b[0m\u001b[0;34m'numVotes'\u001b[0m\u001b[0;34m]\u001b[0m\u001b[0;34m)\u001b[0m\u001b[0;34m\u001b[0m\u001b[0;34m\u001b[0m\u001b[0m\n\u001b[0m",
            "\u001b[0;31mTypeError\u001b[0m: pie() takes 1 positional argument but 2 were given"
          ]
        }
      ]
    },
    {
      "cell_type": "code",
      "metadata": {
        "id": "2QMnqUR_nEW6"
      },
      "source": [
        ""
      ],
      "execution_count": null,
      "outputs": []
    }
  ]
}